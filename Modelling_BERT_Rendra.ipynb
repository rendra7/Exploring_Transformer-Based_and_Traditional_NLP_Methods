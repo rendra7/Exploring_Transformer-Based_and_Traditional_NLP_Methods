{
  "cells": [
    {
      "cell_type": "markdown",
      "source": [
        "# **Analyzing Sentiments in Tweets : Using BERT**"
      ],
      "metadata": {
        "id": "X1r1Z7mOt1ba"
      }
    },
    {
      "cell_type": "markdown",
      "metadata": {
        "id": "vZyf8rcR2qkI"
      },
      "source": [
        "**Text Mining Project Assignment**"
      ]
    },
    {
      "cell_type": "markdown",
      "metadata": {
        "id": "PPGDe-n-1-MH"
      },
      "source": [
        "1. Rendra Dwi Prasetyo - 2602199960\n"
      ]
    },
    {
      "cell_type": "markdown",
      "metadata": {
        "id": "Roi-ub4u2xB1"
      },
      "source": [
        "## **Import dataset from kaggle**"
      ]
    },
    {
      "cell_type": "markdown",
      "metadata": {
        "id": "V4Jh2CVi2QxI"
      },
      "source": [
        "Dataset source : [Kaggle link](https://www.kaggle.com/datasets/kazanova/sentiment140)"
      ]
    },
    {
      "cell_type": "code",
      "execution_count": null,
      "metadata": {
        "colab": {
          "base_uri": "https://localhost:8080/",
          "height": 90
        },
        "id": "A7M30A1o0PB5",
        "outputId": "79c237e3-2100-46c8-9b1f-fd60b3ddf3a8"
      },
      "outputs": [
        {
          "data": {
            "text/html": [
              "\n",
              "     <input type=\"file\" id=\"files-46d3e686-f2e7-4691-852b-d1a18ecfa95c\" name=\"files[]\" multiple disabled\n",
              "        style=\"border:none\" />\n",
              "     <output id=\"result-46d3e686-f2e7-4691-852b-d1a18ecfa95c\">\n",
              "      Upload widget is only available when the cell has been executed in the\n",
              "      current browser session. Please rerun this cell to enable.\n",
              "      </output>\n",
              "      <script>// Copyright 2017 Google LLC\n",
              "//\n",
              "// Licensed under the Apache License, Version 2.0 (the \"License\");\n",
              "// you may not use this file except in compliance with the License.\n",
              "// You may obtain a copy of the License at\n",
              "//\n",
              "//      http://www.apache.org/licenses/LICENSE-2.0\n",
              "//\n",
              "// Unless required by applicable law or agreed to in writing, software\n",
              "// distributed under the License is distributed on an \"AS IS\" BASIS,\n",
              "// WITHOUT WARRANTIES OR CONDITIONS OF ANY KIND, either express or implied.\n",
              "// See the License for the specific language governing permissions and\n",
              "// limitations under the License.\n",
              "\n",
              "/**\n",
              " * @fileoverview Helpers for google.colab Python module.\n",
              " */\n",
              "(function(scope) {\n",
              "function span(text, styleAttributes = {}) {\n",
              "  const element = document.createElement('span');\n",
              "  element.textContent = text;\n",
              "  for (const key of Object.keys(styleAttributes)) {\n",
              "    element.style[key] = styleAttributes[key];\n",
              "  }\n",
              "  return element;\n",
              "}\n",
              "\n",
              "// Max number of bytes which will be uploaded at a time.\n",
              "const MAX_PAYLOAD_SIZE = 100 * 1024;\n",
              "\n",
              "function _uploadFiles(inputId, outputId) {\n",
              "  const steps = uploadFilesStep(inputId, outputId);\n",
              "  const outputElement = document.getElementById(outputId);\n",
              "  // Cache steps on the outputElement to make it available for the next call\n",
              "  // to uploadFilesContinue from Python.\n",
              "  outputElement.steps = steps;\n",
              "\n",
              "  return _uploadFilesContinue(outputId);\n",
              "}\n",
              "\n",
              "// This is roughly an async generator (not supported in the browser yet),\n",
              "// where there are multiple asynchronous steps and the Python side is going\n",
              "// to poll for completion of each step.\n",
              "// This uses a Promise to block the python side on completion of each step,\n",
              "// then passes the result of the previous step as the input to the next step.\n",
              "function _uploadFilesContinue(outputId) {\n",
              "  const outputElement = document.getElementById(outputId);\n",
              "  const steps = outputElement.steps;\n",
              "\n",
              "  const next = steps.next(outputElement.lastPromiseValue);\n",
              "  return Promise.resolve(next.value.promise).then((value) => {\n",
              "    // Cache the last promise value to make it available to the next\n",
              "    // step of the generator.\n",
              "    outputElement.lastPromiseValue = value;\n",
              "    return next.value.response;\n",
              "  });\n",
              "}\n",
              "\n",
              "/**\n",
              " * Generator function which is called between each async step of the upload\n",
              " * process.\n",
              " * @param {string} inputId Element ID of the input file picker element.\n",
              " * @param {string} outputId Element ID of the output display.\n",
              " * @return {!Iterable<!Object>} Iterable of next steps.\n",
              " */\n",
              "function* uploadFilesStep(inputId, outputId) {\n",
              "  const inputElement = document.getElementById(inputId);\n",
              "  inputElement.disabled = false;\n",
              "\n",
              "  const outputElement = document.getElementById(outputId);\n",
              "  outputElement.innerHTML = '';\n",
              "\n",
              "  const pickedPromise = new Promise((resolve) => {\n",
              "    inputElement.addEventListener('change', (e) => {\n",
              "      resolve(e.target.files);\n",
              "    });\n",
              "  });\n",
              "\n",
              "  const cancel = document.createElement('button');\n",
              "  inputElement.parentElement.appendChild(cancel);\n",
              "  cancel.textContent = 'Cancel upload';\n",
              "  const cancelPromise = new Promise((resolve) => {\n",
              "    cancel.onclick = () => {\n",
              "      resolve(null);\n",
              "    };\n",
              "  });\n",
              "\n",
              "  // Wait for the user to pick the files.\n",
              "  const files = yield {\n",
              "    promise: Promise.race([pickedPromise, cancelPromise]),\n",
              "    response: {\n",
              "      action: 'starting',\n",
              "    }\n",
              "  };\n",
              "\n",
              "  cancel.remove();\n",
              "\n",
              "  // Disable the input element since further picks are not allowed.\n",
              "  inputElement.disabled = true;\n",
              "\n",
              "  if (!files) {\n",
              "    return {\n",
              "      response: {\n",
              "        action: 'complete',\n",
              "      }\n",
              "    };\n",
              "  }\n",
              "\n",
              "  for (const file of files) {\n",
              "    const li = document.createElement('li');\n",
              "    li.append(span(file.name, {fontWeight: 'bold'}));\n",
              "    li.append(span(\n",
              "        `(${file.type || 'n/a'}) - ${file.size} bytes, ` +\n",
              "        `last modified: ${\n",
              "            file.lastModifiedDate ? file.lastModifiedDate.toLocaleDateString() :\n",
              "                                    'n/a'} - `));\n",
              "    const percent = span('0% done');\n",
              "    li.appendChild(percent);\n",
              "\n",
              "    outputElement.appendChild(li);\n",
              "\n",
              "    const fileDataPromise = new Promise((resolve) => {\n",
              "      const reader = new FileReader();\n",
              "      reader.onload = (e) => {\n",
              "        resolve(e.target.result);\n",
              "      };\n",
              "      reader.readAsArrayBuffer(file);\n",
              "    });\n",
              "    // Wait for the data to be ready.\n",
              "    let fileData = yield {\n",
              "      promise: fileDataPromise,\n",
              "      response: {\n",
              "        action: 'continue',\n",
              "      }\n",
              "    };\n",
              "\n",
              "    // Use a chunked sending to avoid message size limits. See b/62115660.\n",
              "    let position = 0;\n",
              "    do {\n",
              "      const length = Math.min(fileData.byteLength - position, MAX_PAYLOAD_SIZE);\n",
              "      const chunk = new Uint8Array(fileData, position, length);\n",
              "      position += length;\n",
              "\n",
              "      const base64 = btoa(String.fromCharCode.apply(null, chunk));\n",
              "      yield {\n",
              "        response: {\n",
              "          action: 'append',\n",
              "          file: file.name,\n",
              "          data: base64,\n",
              "        },\n",
              "      };\n",
              "\n",
              "      let percentDone = fileData.byteLength === 0 ?\n",
              "          100 :\n",
              "          Math.round((position / fileData.byteLength) * 100);\n",
              "      percent.textContent = `${percentDone}% done`;\n",
              "\n",
              "    } while (position < fileData.byteLength);\n",
              "  }\n",
              "\n",
              "  // All done.\n",
              "  yield {\n",
              "    response: {\n",
              "      action: 'complete',\n",
              "    }\n",
              "  };\n",
              "}\n",
              "\n",
              "scope.google = scope.google || {};\n",
              "scope.google.colab = scope.google.colab || {};\n",
              "scope.google.colab._files = {\n",
              "  _uploadFiles,\n",
              "  _uploadFilesContinue,\n",
              "};\n",
              "})(self);\n",
              "</script> "
            ],
            "text/plain": [
              "<IPython.core.display.HTML object>"
            ]
          },
          "metadata": {},
          "output_type": "display_data"
        },
        {
          "name": "stdout",
          "output_type": "stream",
          "text": [
            "Saving kaggle.json to kaggle (1).json\n"
          ]
        },
        {
          "data": {
            "text/plain": [
              "{'kaggle (1).json': b'{\"username\":\"rendraprasetyo\",\"key\":\"4bad7239e9e86f57b87632f6967fd0f9\"}'}"
            ]
          },
          "execution_count": 4,
          "metadata": {},
          "output_type": "execute_result"
        }
      ],
      "source": [
        "# Uploading API key (json) file from kaggle\n",
        "from google.colab import files\n",
        "files.upload()"
      ]
    },
    {
      "cell_type": "code",
      "execution_count": null,
      "metadata": {
        "id": "1ao-8qXD3Ev2"
      },
      "outputs": [],
      "source": [
        "# Create file directories and move files \"kaggle.json\"\n",
        "!mkdir -p ~/.kaggle\n",
        "!cp kaggle.json ~/.kaggle/\n",
        "!chmod 600 ~/.kaggle/kaggle.json"
      ]
    },
    {
      "cell_type": "code",
      "execution_count": null,
      "metadata": {
        "colab": {
          "base_uri": "https://localhost:8080/"
        },
        "id": "IPqQsDpD3XKr",
        "outputId": "cda6724f-0859-41c5-dad9-38a2d7e0ce66"
      },
      "outputs": [
        {
          "name": "stdout",
          "output_type": "stream",
          "text": [
            "Dataset URL: https://www.kaggle.com/datasets/kazanova/sentiment140\n",
            "License(s): other\n",
            "Downloading sentiment140.zip to /content\n",
            "100% 80.9M/80.9M [00:00<00:00, 219MB/s]\n",
            "100% 80.9M/80.9M [00:00<00:00, 196MB/s]\n"
          ]
        }
      ],
      "source": [
        "# Donwload dataset\n",
        "!kaggle datasets download -d kazanova/sentiment140"
      ]
    },
    {
      "cell_type": "code",
      "execution_count": null,
      "metadata": {
        "colab": {
          "base_uri": "https://localhost:8080/"
        },
        "id": "4z24GntT3hkO",
        "outputId": "44784612-dc81-490e-a093-c2eda26c7b09"
      },
      "outputs": [
        {
          "name": "stdout",
          "output_type": "stream",
          "text": [
            "'kaggle (1).json'   kaggle.json   sample_data   sentiment140.zip\n"
          ]
        }
      ],
      "source": [
        "# Check whether the dataset is already on the Google Colab disk\n",
        "!ls"
      ]
    },
    {
      "cell_type": "code",
      "execution_count": null,
      "metadata": {
        "colab": {
          "base_uri": "https://localhost:8080/"
        },
        "id": "WJRDwuhg3i_r",
        "outputId": "efe51286-e227-4e53-f369-fb8713857703"
      },
      "outputs": [
        {
          "name": "stdout",
          "output_type": "stream",
          "text": [
            "Archive:  sentiment140.zip\n",
            "  inflating: data_dir/training.1600000.processed.noemoticon.csv  \n"
          ]
        }
      ],
      "source": [
        "# Extract/unzip the dataset that I downloaded earlier\n",
        "!unzip sentiment140.zip -d data_dir"
      ]
    },
    {
      "cell_type": "markdown",
      "metadata": {
        "id": "m61Yvh4S4EnA"
      },
      "source": [
        "## **Explore Dataset**"
      ]
    },
    {
      "cell_type": "markdown",
      "metadata": {
        "id": "krchr4mnedJo"
      },
      "source": [
        "### Load data"
      ]
    },
    {
      "cell_type": "code",
      "execution_count": null,
      "metadata": {
        "id": "cgjxyLEJKrOQ",
        "outputId": "dac58861-7270-41ae-8c12-0f8052730e7b"
      },
      "outputs": [
        {
          "name": "stdout",
          "output_type": "stream",
          "text": [
            "Successfully read the CSV file.\n"
          ]
        }
      ],
      "source": [
        "# Read dataset\n",
        "import pandas as pd\n",
        "\n",
        "df = pd.read_csv('training.1600000.processed.noemoticon.csv', encoding='latin-1',header=None)\n",
        "print(\"Successfully read the CSV file.\")"
      ]
    },
    {
      "cell_type": "code",
      "execution_count": null,
      "metadata": {
        "colab": {
          "base_uri": "https://localhost:8080/",
          "height": 206
        },
        "id": "ENQWzcHQ4ZO4",
        "outputId": "335e1383-4f86-4d79-be64-fe387faf07dd"
      },
      "outputs": [
        {
          "data": {
            "application/vnd.google.colaboratory.intrinsic+json": {
              "type": "dataframe",
              "variable_name": "df"
            },
            "text/html": [
              "\n",
              "  <div id=\"df-abbb9b47-2a22-4487-8bd7-d19063867aa4\" class=\"colab-df-container\">\n",
              "    <div>\n",
              "<style scoped>\n",
              "    .dataframe tbody tr th:only-of-type {\n",
              "        vertical-align: middle;\n",
              "    }\n",
              "\n",
              "    .dataframe tbody tr th {\n",
              "        vertical-align: top;\n",
              "    }\n",
              "\n",
              "    .dataframe thead th {\n",
              "        text-align: right;\n",
              "    }\n",
              "</style>\n",
              "<table border=\"1\" class=\"dataframe\">\n",
              "  <thead>\n",
              "    <tr style=\"text-align: right;\">\n",
              "      <th></th>\n",
              "      <th>0</th>\n",
              "      <th>1</th>\n",
              "      <th>2</th>\n",
              "      <th>3</th>\n",
              "      <th>4</th>\n",
              "      <th>5</th>\n",
              "    </tr>\n",
              "  </thead>\n",
              "  <tbody>\n",
              "    <tr>\n",
              "      <th>0</th>\n",
              "      <td>0</td>\n",
              "      <td>1467810369</td>\n",
              "      <td>Mon Apr 06 22:19:45 PDT 2009</td>\n",
              "      <td>NO_QUERY</td>\n",
              "      <td>_TheSpecialOne_</td>\n",
              "      <td>@switchfoot http://twitpic.com/2y1zl - Awww, t...</td>\n",
              "    </tr>\n",
              "    <tr>\n",
              "      <th>1</th>\n",
              "      <td>0</td>\n",
              "      <td>1467810672</td>\n",
              "      <td>Mon Apr 06 22:19:49 PDT 2009</td>\n",
              "      <td>NO_QUERY</td>\n",
              "      <td>scotthamilton</td>\n",
              "      <td>is upset that he can't update his Facebook by ...</td>\n",
              "    </tr>\n",
              "    <tr>\n",
              "      <th>2</th>\n",
              "      <td>0</td>\n",
              "      <td>1467810917</td>\n",
              "      <td>Mon Apr 06 22:19:53 PDT 2009</td>\n",
              "      <td>NO_QUERY</td>\n",
              "      <td>mattycus</td>\n",
              "      <td>@Kenichan I dived many times for the ball. Man...</td>\n",
              "    </tr>\n",
              "    <tr>\n",
              "      <th>3</th>\n",
              "      <td>0</td>\n",
              "      <td>1467811184</td>\n",
              "      <td>Mon Apr 06 22:19:57 PDT 2009</td>\n",
              "      <td>NO_QUERY</td>\n",
              "      <td>ElleCTF</td>\n",
              "      <td>my whole body feels itchy and like its on fire</td>\n",
              "    </tr>\n",
              "    <tr>\n",
              "      <th>4</th>\n",
              "      <td>0</td>\n",
              "      <td>1467811193</td>\n",
              "      <td>Mon Apr 06 22:19:57 PDT 2009</td>\n",
              "      <td>NO_QUERY</td>\n",
              "      <td>Karoli</td>\n",
              "      <td>@nationwideclass no, it's not behaving at all....</td>\n",
              "    </tr>\n",
              "  </tbody>\n",
              "</table>\n",
              "</div>\n",
              "    <div class=\"colab-df-buttons\">\n",
              "\n",
              "  <div class=\"colab-df-container\">\n",
              "    <button class=\"colab-df-convert\" onclick=\"convertToInteractive('df-abbb9b47-2a22-4487-8bd7-d19063867aa4')\"\n",
              "            title=\"Convert this dataframe to an interactive table.\"\n",
              "            style=\"display:none;\">\n",
              "\n",
              "  <svg xmlns=\"http://www.w3.org/2000/svg\" height=\"24px\" viewBox=\"0 -960 960 960\">\n",
              "    <path d=\"M120-120v-720h720v720H120Zm60-500h600v-160H180v160Zm220 220h160v-160H400v160Zm0 220h160v-160H400v160ZM180-400h160v-160H180v160Zm440 0h160v-160H620v160ZM180-180h160v-160H180v160Zm440 0h160v-160H620v160Z\"/>\n",
              "  </svg>\n",
              "    </button>\n",
              "\n",
              "  <style>\n",
              "    .colab-df-container {\n",
              "      display:flex;\n",
              "      gap: 12px;\n",
              "    }\n",
              "\n",
              "    .colab-df-convert {\n",
              "      background-color: #E8F0FE;\n",
              "      border: none;\n",
              "      border-radius: 50%;\n",
              "      cursor: pointer;\n",
              "      display: none;\n",
              "      fill: #1967D2;\n",
              "      height: 32px;\n",
              "      padding: 0 0 0 0;\n",
              "      width: 32px;\n",
              "    }\n",
              "\n",
              "    .colab-df-convert:hover {\n",
              "      background-color: #E2EBFA;\n",
              "      box-shadow: 0px 1px 2px rgba(60, 64, 67, 0.3), 0px 1px 3px 1px rgba(60, 64, 67, 0.15);\n",
              "      fill: #174EA6;\n",
              "    }\n",
              "\n",
              "    .colab-df-buttons div {\n",
              "      margin-bottom: 4px;\n",
              "    }\n",
              "\n",
              "    [theme=dark] .colab-df-convert {\n",
              "      background-color: #3B4455;\n",
              "      fill: #D2E3FC;\n",
              "    }\n",
              "\n",
              "    [theme=dark] .colab-df-convert:hover {\n",
              "      background-color: #434B5C;\n",
              "      box-shadow: 0px 1px 3px 1px rgba(0, 0, 0, 0.15);\n",
              "      filter: drop-shadow(0px 1px 2px rgba(0, 0, 0, 0.3));\n",
              "      fill: #FFFFFF;\n",
              "    }\n",
              "  </style>\n",
              "\n",
              "    <script>\n",
              "      const buttonEl =\n",
              "        document.querySelector('#df-abbb9b47-2a22-4487-8bd7-d19063867aa4 button.colab-df-convert');\n",
              "      buttonEl.style.display =\n",
              "        google.colab.kernel.accessAllowed ? 'block' : 'none';\n",
              "\n",
              "      async function convertToInteractive(key) {\n",
              "        const element = document.querySelector('#df-abbb9b47-2a22-4487-8bd7-d19063867aa4');\n",
              "        const dataTable =\n",
              "          await google.colab.kernel.invokeFunction('convertToInteractive',\n",
              "                                                    [key], {});\n",
              "        if (!dataTable) return;\n",
              "\n",
              "        const docLinkHtml = 'Like what you see? Visit the ' +\n",
              "          '<a target=\"_blank\" href=https://colab.research.google.com/notebooks/data_table.ipynb>data table notebook</a>'\n",
              "          + ' to learn more about interactive tables.';\n",
              "        element.innerHTML = '';\n",
              "        dataTable['output_type'] = 'display_data';\n",
              "        await google.colab.output.renderOutput(dataTable, element);\n",
              "        const docLink = document.createElement('div');\n",
              "        docLink.innerHTML = docLinkHtml;\n",
              "        element.appendChild(docLink);\n",
              "      }\n",
              "    </script>\n",
              "  </div>\n",
              "\n",
              "\n",
              "<div id=\"df-db34c82b-2fb6-4fc5-8b97-397ab6ffea47\">\n",
              "  <button class=\"colab-df-quickchart\" onclick=\"quickchart('df-db34c82b-2fb6-4fc5-8b97-397ab6ffea47')\"\n",
              "            title=\"Suggest charts\"\n",
              "            style=\"display:none;\">\n",
              "\n",
              "<svg xmlns=\"http://www.w3.org/2000/svg\" height=\"24px\"viewBox=\"0 0 24 24\"\n",
              "     width=\"24px\">\n",
              "    <g>\n",
              "        <path d=\"M19 3H5c-1.1 0-2 .9-2 2v14c0 1.1.9 2 2 2h14c1.1 0 2-.9 2-2V5c0-1.1-.9-2-2-2zM9 17H7v-7h2v7zm4 0h-2V7h2v10zm4 0h-2v-4h2v4z\"/>\n",
              "    </g>\n",
              "</svg>\n",
              "  </button>\n",
              "\n",
              "<style>\n",
              "  .colab-df-quickchart {\n",
              "      --bg-color: #E8F0FE;\n",
              "      --fill-color: #1967D2;\n",
              "      --hover-bg-color: #E2EBFA;\n",
              "      --hover-fill-color: #174EA6;\n",
              "      --disabled-fill-color: #AAA;\n",
              "      --disabled-bg-color: #DDD;\n",
              "  }\n",
              "\n",
              "  [theme=dark] .colab-df-quickchart {\n",
              "      --bg-color: #3B4455;\n",
              "      --fill-color: #D2E3FC;\n",
              "      --hover-bg-color: #434B5C;\n",
              "      --hover-fill-color: #FFFFFF;\n",
              "      --disabled-bg-color: #3B4455;\n",
              "      --disabled-fill-color: #666;\n",
              "  }\n",
              "\n",
              "  .colab-df-quickchart {\n",
              "    background-color: var(--bg-color);\n",
              "    border: none;\n",
              "    border-radius: 50%;\n",
              "    cursor: pointer;\n",
              "    display: none;\n",
              "    fill: var(--fill-color);\n",
              "    height: 32px;\n",
              "    padding: 0;\n",
              "    width: 32px;\n",
              "  }\n",
              "\n",
              "  .colab-df-quickchart:hover {\n",
              "    background-color: var(--hover-bg-color);\n",
              "    box-shadow: 0 1px 2px rgba(60, 64, 67, 0.3), 0 1px 3px 1px rgba(60, 64, 67, 0.15);\n",
              "    fill: var(--button-hover-fill-color);\n",
              "  }\n",
              "\n",
              "  .colab-df-quickchart-complete:disabled,\n",
              "  .colab-df-quickchart-complete:disabled:hover {\n",
              "    background-color: var(--disabled-bg-color);\n",
              "    fill: var(--disabled-fill-color);\n",
              "    box-shadow: none;\n",
              "  }\n",
              "\n",
              "  .colab-df-spinner {\n",
              "    border: 2px solid var(--fill-color);\n",
              "    border-color: transparent;\n",
              "    border-bottom-color: var(--fill-color);\n",
              "    animation:\n",
              "      spin 1s steps(1) infinite;\n",
              "  }\n",
              "\n",
              "  @keyframes spin {\n",
              "    0% {\n",
              "      border-color: transparent;\n",
              "      border-bottom-color: var(--fill-color);\n",
              "      border-left-color: var(--fill-color);\n",
              "    }\n",
              "    20% {\n",
              "      border-color: transparent;\n",
              "      border-left-color: var(--fill-color);\n",
              "      border-top-color: var(--fill-color);\n",
              "    }\n",
              "    30% {\n",
              "      border-color: transparent;\n",
              "      border-left-color: var(--fill-color);\n",
              "      border-top-color: var(--fill-color);\n",
              "      border-right-color: var(--fill-color);\n",
              "    }\n",
              "    40% {\n",
              "      border-color: transparent;\n",
              "      border-right-color: var(--fill-color);\n",
              "      border-top-color: var(--fill-color);\n",
              "    }\n",
              "    60% {\n",
              "      border-color: transparent;\n",
              "      border-right-color: var(--fill-color);\n",
              "    }\n",
              "    80% {\n",
              "      border-color: transparent;\n",
              "      border-right-color: var(--fill-color);\n",
              "      border-bottom-color: var(--fill-color);\n",
              "    }\n",
              "    90% {\n",
              "      border-color: transparent;\n",
              "      border-bottom-color: var(--fill-color);\n",
              "    }\n",
              "  }\n",
              "</style>\n",
              "\n",
              "  <script>\n",
              "    async function quickchart(key) {\n",
              "      const quickchartButtonEl =\n",
              "        document.querySelector('#' + key + ' button');\n",
              "      quickchartButtonEl.disabled = true;  // To prevent multiple clicks.\n",
              "      quickchartButtonEl.classList.add('colab-df-spinner');\n",
              "      try {\n",
              "        const charts = await google.colab.kernel.invokeFunction(\n",
              "            'suggestCharts', [key], {});\n",
              "      } catch (error) {\n",
              "        console.error('Error during call to suggestCharts:', error);\n",
              "      }\n",
              "      quickchartButtonEl.classList.remove('colab-df-spinner');\n",
              "      quickchartButtonEl.classList.add('colab-df-quickchart-complete');\n",
              "    }\n",
              "    (() => {\n",
              "      let quickchartButtonEl =\n",
              "        document.querySelector('#df-db34c82b-2fb6-4fc5-8b97-397ab6ffea47 button');\n",
              "      quickchartButtonEl.style.display =\n",
              "        google.colab.kernel.accessAllowed ? 'block' : 'none';\n",
              "    })();\n",
              "  </script>\n",
              "</div>\n",
              "\n",
              "    </div>\n",
              "  </div>\n"
            ],
            "text/plain": [
              "   0           1                             2         3                4  \\\n",
              "0  0  1467810369  Mon Apr 06 22:19:45 PDT 2009  NO_QUERY  _TheSpecialOne_   \n",
              "1  0  1467810672  Mon Apr 06 22:19:49 PDT 2009  NO_QUERY    scotthamilton   \n",
              "2  0  1467810917  Mon Apr 06 22:19:53 PDT 2009  NO_QUERY         mattycus   \n",
              "3  0  1467811184  Mon Apr 06 22:19:57 PDT 2009  NO_QUERY          ElleCTF   \n",
              "4  0  1467811193  Mon Apr 06 22:19:57 PDT 2009  NO_QUERY           Karoli   \n",
              "\n",
              "                                                   5  \n",
              "0  @switchfoot http://twitpic.com/2y1zl - Awww, t...  \n",
              "1  is upset that he can't update his Facebook by ...  \n",
              "2  @Kenichan I dived many times for the ball. Man...  \n",
              "3    my whole body feels itchy and like its on fire   \n",
              "4  @nationwideclass no, it's not behaving at all....  "
            ]
          },
          "execution_count": 10,
          "metadata": {},
          "output_type": "execute_result"
        }
      ],
      "source": [
        "# View data headers\n",
        "df.head()"
      ]
    },
    {
      "cell_type": "markdown",
      "metadata": {
        "id": "OwCj8GZFdyq9"
      },
      "source": [
        "### Dimensionality reduction"
      ]
    },
    {
      "cell_type": "code",
      "execution_count": null,
      "metadata": {
        "id": "wdD9UhYd8iwI"
      },
      "outputs": [],
      "source": [
        "# Delete unimportant columns\n",
        "df.drop([1, 2, 3, 4], axis=1, inplace=True)"
      ]
    },
    {
      "cell_type": "code",
      "execution_count": null,
      "metadata": {
        "id": "qQkqLa-m4dQO"
      },
      "outputs": [],
      "source": [
        "# Rename each column\n",
        "df.columns = ['target', 'text']"
      ]
    },
    {
      "cell_type": "code",
      "execution_count": null,
      "metadata": {
        "colab": {
          "base_uri": "https://localhost:8080/",
          "height": 206
        },
        "id": "HY2YyTOW7zKC",
        "outputId": "e69414c8-1144-4f3a-b474-8a1e9a404794"
      },
      "outputs": [
        {
          "data": {
            "application/vnd.google.colaboratory.intrinsic+json": {
              "type": "dataframe",
              "variable_name": "df"
            },
            "text/html": [
              "\n",
              "  <div id=\"df-3f1a4366-29e2-46f0-996e-efd661d98fe9\" class=\"colab-df-container\">\n",
              "    <div>\n",
              "<style scoped>\n",
              "    .dataframe tbody tr th:only-of-type {\n",
              "        vertical-align: middle;\n",
              "    }\n",
              "\n",
              "    .dataframe tbody tr th {\n",
              "        vertical-align: top;\n",
              "    }\n",
              "\n",
              "    .dataframe thead th {\n",
              "        text-align: right;\n",
              "    }\n",
              "</style>\n",
              "<table border=\"1\" class=\"dataframe\">\n",
              "  <thead>\n",
              "    <tr style=\"text-align: right;\">\n",
              "      <th></th>\n",
              "      <th>target</th>\n",
              "      <th>text</th>\n",
              "    </tr>\n",
              "  </thead>\n",
              "  <tbody>\n",
              "    <tr>\n",
              "      <th>0</th>\n",
              "      <td>0</td>\n",
              "      <td>@switchfoot http://twitpic.com/2y1zl - Awww, t...</td>\n",
              "    </tr>\n",
              "    <tr>\n",
              "      <th>1</th>\n",
              "      <td>0</td>\n",
              "      <td>is upset that he can't update his Facebook by ...</td>\n",
              "    </tr>\n",
              "    <tr>\n",
              "      <th>2</th>\n",
              "      <td>0</td>\n",
              "      <td>@Kenichan I dived many times for the ball. Man...</td>\n",
              "    </tr>\n",
              "    <tr>\n",
              "      <th>3</th>\n",
              "      <td>0</td>\n",
              "      <td>my whole body feels itchy and like its on fire</td>\n",
              "    </tr>\n",
              "    <tr>\n",
              "      <th>4</th>\n",
              "      <td>0</td>\n",
              "      <td>@nationwideclass no, it's not behaving at all....</td>\n",
              "    </tr>\n",
              "  </tbody>\n",
              "</table>\n",
              "</div>\n",
              "    <div class=\"colab-df-buttons\">\n",
              "\n",
              "  <div class=\"colab-df-container\">\n",
              "    <button class=\"colab-df-convert\" onclick=\"convertToInteractive('df-3f1a4366-29e2-46f0-996e-efd661d98fe9')\"\n",
              "            title=\"Convert this dataframe to an interactive table.\"\n",
              "            style=\"display:none;\">\n",
              "\n",
              "  <svg xmlns=\"http://www.w3.org/2000/svg\" height=\"24px\" viewBox=\"0 -960 960 960\">\n",
              "    <path d=\"M120-120v-720h720v720H120Zm60-500h600v-160H180v160Zm220 220h160v-160H400v160Zm0 220h160v-160H400v160ZM180-400h160v-160H180v160Zm440 0h160v-160H620v160ZM180-180h160v-160H180v160Zm440 0h160v-160H620v160Z\"/>\n",
              "  </svg>\n",
              "    </button>\n",
              "\n",
              "  <style>\n",
              "    .colab-df-container {\n",
              "      display:flex;\n",
              "      gap: 12px;\n",
              "    }\n",
              "\n",
              "    .colab-df-convert {\n",
              "      background-color: #E8F0FE;\n",
              "      border: none;\n",
              "      border-radius: 50%;\n",
              "      cursor: pointer;\n",
              "      display: none;\n",
              "      fill: #1967D2;\n",
              "      height: 32px;\n",
              "      padding: 0 0 0 0;\n",
              "      width: 32px;\n",
              "    }\n",
              "\n",
              "    .colab-df-convert:hover {\n",
              "      background-color: #E2EBFA;\n",
              "      box-shadow: 0px 1px 2px rgba(60, 64, 67, 0.3), 0px 1px 3px 1px rgba(60, 64, 67, 0.15);\n",
              "      fill: #174EA6;\n",
              "    }\n",
              "\n",
              "    .colab-df-buttons div {\n",
              "      margin-bottom: 4px;\n",
              "    }\n",
              "\n",
              "    [theme=dark] .colab-df-convert {\n",
              "      background-color: #3B4455;\n",
              "      fill: #D2E3FC;\n",
              "    }\n",
              "\n",
              "    [theme=dark] .colab-df-convert:hover {\n",
              "      background-color: #434B5C;\n",
              "      box-shadow: 0px 1px 3px 1px rgba(0, 0, 0, 0.15);\n",
              "      filter: drop-shadow(0px 1px 2px rgba(0, 0, 0, 0.3));\n",
              "      fill: #FFFFFF;\n",
              "    }\n",
              "  </style>\n",
              "\n",
              "    <script>\n",
              "      const buttonEl =\n",
              "        document.querySelector('#df-3f1a4366-29e2-46f0-996e-efd661d98fe9 button.colab-df-convert');\n",
              "      buttonEl.style.display =\n",
              "        google.colab.kernel.accessAllowed ? 'block' : 'none';\n",
              "\n",
              "      async function convertToInteractive(key) {\n",
              "        const element = document.querySelector('#df-3f1a4366-29e2-46f0-996e-efd661d98fe9');\n",
              "        const dataTable =\n",
              "          await google.colab.kernel.invokeFunction('convertToInteractive',\n",
              "                                                    [key], {});\n",
              "        if (!dataTable) return;\n",
              "\n",
              "        const docLinkHtml = 'Like what you see? Visit the ' +\n",
              "          '<a target=\"_blank\" href=https://colab.research.google.com/notebooks/data_table.ipynb>data table notebook</a>'\n",
              "          + ' to learn more about interactive tables.';\n",
              "        element.innerHTML = '';\n",
              "        dataTable['output_type'] = 'display_data';\n",
              "        await google.colab.output.renderOutput(dataTable, element);\n",
              "        const docLink = document.createElement('div');\n",
              "        docLink.innerHTML = docLinkHtml;\n",
              "        element.appendChild(docLink);\n",
              "      }\n",
              "    </script>\n",
              "  </div>\n",
              "\n",
              "\n",
              "<div id=\"df-3ccc0f85-c60a-46df-bd14-5acba439d36d\">\n",
              "  <button class=\"colab-df-quickchart\" onclick=\"quickchart('df-3ccc0f85-c60a-46df-bd14-5acba439d36d')\"\n",
              "            title=\"Suggest charts\"\n",
              "            style=\"display:none;\">\n",
              "\n",
              "<svg xmlns=\"http://www.w3.org/2000/svg\" height=\"24px\"viewBox=\"0 0 24 24\"\n",
              "     width=\"24px\">\n",
              "    <g>\n",
              "        <path d=\"M19 3H5c-1.1 0-2 .9-2 2v14c0 1.1.9 2 2 2h14c1.1 0 2-.9 2-2V5c0-1.1-.9-2-2-2zM9 17H7v-7h2v7zm4 0h-2V7h2v10zm4 0h-2v-4h2v4z\"/>\n",
              "    </g>\n",
              "</svg>\n",
              "  </button>\n",
              "\n",
              "<style>\n",
              "  .colab-df-quickchart {\n",
              "      --bg-color: #E8F0FE;\n",
              "      --fill-color: #1967D2;\n",
              "      --hover-bg-color: #E2EBFA;\n",
              "      --hover-fill-color: #174EA6;\n",
              "      --disabled-fill-color: #AAA;\n",
              "      --disabled-bg-color: #DDD;\n",
              "  }\n",
              "\n",
              "  [theme=dark] .colab-df-quickchart {\n",
              "      --bg-color: #3B4455;\n",
              "      --fill-color: #D2E3FC;\n",
              "      --hover-bg-color: #434B5C;\n",
              "      --hover-fill-color: #FFFFFF;\n",
              "      --disabled-bg-color: #3B4455;\n",
              "      --disabled-fill-color: #666;\n",
              "  }\n",
              "\n",
              "  .colab-df-quickchart {\n",
              "    background-color: var(--bg-color);\n",
              "    border: none;\n",
              "    border-radius: 50%;\n",
              "    cursor: pointer;\n",
              "    display: none;\n",
              "    fill: var(--fill-color);\n",
              "    height: 32px;\n",
              "    padding: 0;\n",
              "    width: 32px;\n",
              "  }\n",
              "\n",
              "  .colab-df-quickchart:hover {\n",
              "    background-color: var(--hover-bg-color);\n",
              "    box-shadow: 0 1px 2px rgba(60, 64, 67, 0.3), 0 1px 3px 1px rgba(60, 64, 67, 0.15);\n",
              "    fill: var(--button-hover-fill-color);\n",
              "  }\n",
              "\n",
              "  .colab-df-quickchart-complete:disabled,\n",
              "  .colab-df-quickchart-complete:disabled:hover {\n",
              "    background-color: var(--disabled-bg-color);\n",
              "    fill: var(--disabled-fill-color);\n",
              "    box-shadow: none;\n",
              "  }\n",
              "\n",
              "  .colab-df-spinner {\n",
              "    border: 2px solid var(--fill-color);\n",
              "    border-color: transparent;\n",
              "    border-bottom-color: var(--fill-color);\n",
              "    animation:\n",
              "      spin 1s steps(1) infinite;\n",
              "  }\n",
              "\n",
              "  @keyframes spin {\n",
              "    0% {\n",
              "      border-color: transparent;\n",
              "      border-bottom-color: var(--fill-color);\n",
              "      border-left-color: var(--fill-color);\n",
              "    }\n",
              "    20% {\n",
              "      border-color: transparent;\n",
              "      border-left-color: var(--fill-color);\n",
              "      border-top-color: var(--fill-color);\n",
              "    }\n",
              "    30% {\n",
              "      border-color: transparent;\n",
              "      border-left-color: var(--fill-color);\n",
              "      border-top-color: var(--fill-color);\n",
              "      border-right-color: var(--fill-color);\n",
              "    }\n",
              "    40% {\n",
              "      border-color: transparent;\n",
              "      border-right-color: var(--fill-color);\n",
              "      border-top-color: var(--fill-color);\n",
              "    }\n",
              "    60% {\n",
              "      border-color: transparent;\n",
              "      border-right-color: var(--fill-color);\n",
              "    }\n",
              "    80% {\n",
              "      border-color: transparent;\n",
              "      border-right-color: var(--fill-color);\n",
              "      border-bottom-color: var(--fill-color);\n",
              "    }\n",
              "    90% {\n",
              "      border-color: transparent;\n",
              "      border-bottom-color: var(--fill-color);\n",
              "    }\n",
              "  }\n",
              "</style>\n",
              "\n",
              "  <script>\n",
              "    async function quickchart(key) {\n",
              "      const quickchartButtonEl =\n",
              "        document.querySelector('#' + key + ' button');\n",
              "      quickchartButtonEl.disabled = true;  // To prevent multiple clicks.\n",
              "      quickchartButtonEl.classList.add('colab-df-spinner');\n",
              "      try {\n",
              "        const charts = await google.colab.kernel.invokeFunction(\n",
              "            'suggestCharts', [key], {});\n",
              "      } catch (error) {\n",
              "        console.error('Error during call to suggestCharts:', error);\n",
              "      }\n",
              "      quickchartButtonEl.classList.remove('colab-df-spinner');\n",
              "      quickchartButtonEl.classList.add('colab-df-quickchart-complete');\n",
              "    }\n",
              "    (() => {\n",
              "      let quickchartButtonEl =\n",
              "        document.querySelector('#df-3ccc0f85-c60a-46df-bd14-5acba439d36d button');\n",
              "      quickchartButtonEl.style.display =\n",
              "        google.colab.kernel.accessAllowed ? 'block' : 'none';\n",
              "    })();\n",
              "  </script>\n",
              "</div>\n",
              "\n",
              "    </div>\n",
              "  </div>\n"
            ],
            "text/plain": [
              "   target                                               text\n",
              "0       0  @switchfoot http://twitpic.com/2y1zl - Awww, t...\n",
              "1       0  is upset that he can't update his Facebook by ...\n",
              "2       0  @Kenichan I dived many times for the ball. Man...\n",
              "3       0    my whole body feels itchy and like its on fire \n",
              "4       0  @nationwideclass no, it's not behaving at all...."
            ]
          },
          "execution_count": 13,
          "metadata": {},
          "output_type": "execute_result"
        }
      ],
      "source": [
        "# check changes\n",
        "df.head()"
      ]
    },
    {
      "cell_type": "markdown",
      "metadata": {
        "id": "5heP7AEpeU-M"
      },
      "source": [
        "### Data inspection after dimensionality reduction"
      ]
    },
    {
      "cell_type": "code",
      "execution_count": null,
      "metadata": {
        "colab": {
          "base_uri": "https://localhost:8080/"
        },
        "id": "E_LNbZRi71Ym",
        "outputId": "7ed979a5-bcba-41db-9265-ee33b1330d1f"
      },
      "outputs": [
        {
          "data": {
            "text/plain": [
              "(1600000, 2)"
            ]
          },
          "execution_count": 14,
          "metadata": {},
          "output_type": "execute_result"
        }
      ],
      "source": [
        "df.shape"
      ]
    },
    {
      "cell_type": "markdown",
      "metadata": {
        "id": "fY-SboijfuIV"
      },
      "source": [
        "There are 1.6 million data with 2 features, indicating a very large dataset"
      ]
    },
    {
      "cell_type": "code",
      "execution_count": null,
      "metadata": {
        "colab": {
          "base_uri": "https://localhost:8080/",
          "height": 147
        },
        "id": "ZaK6zbjSgQK1",
        "outputId": "3ba505ba-7a6b-4dc5-d78a-3d30473696d5"
      },
      "outputs": [
        {
          "data": {
            "text/html": [
              "<div>\n",
              "<style scoped>\n",
              "    .dataframe tbody tr th:only-of-type {\n",
              "        vertical-align: middle;\n",
              "    }\n",
              "\n",
              "    .dataframe tbody tr th {\n",
              "        vertical-align: top;\n",
              "    }\n",
              "\n",
              "    .dataframe thead th {\n",
              "        text-align: right;\n",
              "    }\n",
              "</style>\n",
              "<table border=\"1\" class=\"dataframe\">\n",
              "  <thead>\n",
              "    <tr style=\"text-align: right;\">\n",
              "      <th></th>\n",
              "      <th>0</th>\n",
              "    </tr>\n",
              "  </thead>\n",
              "  <tbody>\n",
              "    <tr>\n",
              "      <th>target</th>\n",
              "      <td>0</td>\n",
              "    </tr>\n",
              "    <tr>\n",
              "      <th>text</th>\n",
              "      <td>0</td>\n",
              "    </tr>\n",
              "  </tbody>\n",
              "</table>\n",
              "</div><br><label><b>dtype:</b> int64</label>"
            ],
            "text/plain": [
              "target    0\n",
              "text      0\n",
              "dtype: int64"
            ]
          },
          "execution_count": 15,
          "metadata": {},
          "output_type": "execute_result"
        }
      ],
      "source": [
        "df.isnull().sum()"
      ]
    },
    {
      "cell_type": "code",
      "execution_count": null,
      "metadata": {
        "colab": {
          "base_uri": "https://localhost:8080/",
          "height": 147
        },
        "id": "gB-xpHdcCTTJ",
        "outputId": "88fefaa4-857c-446f-abe9-64b063709b74"
      },
      "outputs": [
        {
          "data": {
            "text/html": [
              "<div>\n",
              "<style scoped>\n",
              "    .dataframe tbody tr th:only-of-type {\n",
              "        vertical-align: middle;\n",
              "    }\n",
              "\n",
              "    .dataframe tbody tr th {\n",
              "        vertical-align: top;\n",
              "    }\n",
              "\n",
              "    .dataframe thead th {\n",
              "        text-align: right;\n",
              "    }\n",
              "</style>\n",
              "<table border=\"1\" class=\"dataframe\">\n",
              "  <thead>\n",
              "    <tr style=\"text-align: right;\">\n",
              "      <th></th>\n",
              "      <th>0</th>\n",
              "    </tr>\n",
              "  </thead>\n",
              "  <tbody>\n",
              "    <tr>\n",
              "      <th>target</th>\n",
              "      <td>int64</td>\n",
              "    </tr>\n",
              "    <tr>\n",
              "      <th>text</th>\n",
              "      <td>object</td>\n",
              "    </tr>\n",
              "  </tbody>\n",
              "</table>\n",
              "</div><br><label><b>dtype:</b> object</label>"
            ],
            "text/plain": [
              "target     int64\n",
              "text      object\n",
              "dtype: object"
            ]
          },
          "execution_count": 16,
          "metadata": {},
          "output_type": "execute_result"
        }
      ],
      "source": [
        "df.dtypes"
      ]
    },
    {
      "cell_type": "code",
      "execution_count": null,
      "metadata": {
        "colab": {
          "base_uri": "https://localhost:8080/"
        },
        "id": "XaWIAvRd8vRC",
        "outputId": "ea2abe6b-4e97-4471-ac01-4a5265a67ee8"
      },
      "outputs": [
        {
          "data": {
            "text/plain": [
              "array([0, 4])"
            ]
          },
          "execution_count": 17,
          "metadata": {},
          "output_type": "execute_result"
        }
      ],
      "source": [
        "df['target'].unique()"
      ]
    },
    {
      "cell_type": "markdown",
      "metadata": {
        "id": "vHs4VT5R9Azh"
      },
      "source": [
        "\n",
        "It can be seen that there are 2 labels as targets, namely:\n",
        "\n",
        "**target 0 = negative and 4 = positive**"
      ]
    },
    {
      "cell_type": "code",
      "execution_count": null,
      "metadata": {
        "id": "0iqFBboFiIOQ"
      },
      "outputs": [],
      "source": [
        "#  pemetaan ulang (re-mapping) label dari dataset --> karena tadi label nya 0 dan 4, maka kami ubah menjadi 0 dan 1\n",
        "labell = {0:0,\n",
        "          4:1,\n",
        "          }\n",
        "\n",
        "df['target'] = df['target'].map(labell)"
      ]
    },
    {
      "cell_type": "code",
      "execution_count": null,
      "metadata": {
        "colab": {
          "base_uri": "https://localhost:8080/"
        },
        "id": "7lx5QZhGip6d",
        "outputId": "2a13be74-af0f-4ea3-927a-a65399be7076"
      },
      "outputs": [
        {
          "name": "stdout",
          "output_type": "stream",
          "text": [
            "target\n",
            "0    800000\n",
            "1    800000\n",
            "Name: count, dtype: int64\n"
          ]
        }
      ],
      "source": [
        "print(df['target'].value_counts())"
      ]
    },
    {
      "cell_type": "markdown",
      "metadata": {
        "id": "90RRuNpVF7PO"
      },
      "source": [
        "**Purpose of Re-mapping** the label:\n",
        "- Because using binary labels (0 and 1) is simpler and many functions (loss functions), such as **Binary Cross-Entropy Loss** which i will use, are designed to work optimally with labels 0 and 1."
      ]
    },
    {
      "cell_type": "markdown",
      "metadata": {
        "id": "xzT6PH_ifHom"
      },
      "source": [
        "### Visualisasi Distribusi label"
      ]
    },
    {
      "cell_type": "code",
      "execution_count": null,
      "metadata": {
        "colab": {
          "base_uri": "https://localhost:8080/",
          "height": 652
        },
        "id": "wq-5iwET9asq",
        "outputId": "fc5fe14f-7175-4687-d88c-9acccadadb1d"
      },
      "outputs": [
        {
          "name": "stderr",
          "output_type": "stream",
          "text": [
            "<ipython-input-20-c1100bf1b494>:9: FutureWarning: \n",
            "\n",
            "Passing `palette` without assigning `hue` is deprecated and will be removed in v0.14.0. Assign the `x` variable to `hue` and set `legend=False` for the same effect.\n",
            "\n",
            "  sns.barplot(x=labels, y=target_counts.values, palette=(\"red\",\"blue\"))\n"
          ]
        },
        {
          "data": {
            "image/png": "[encoded data removed]",
            "text/plain": [
              "<Figure size 800x600 with 1 Axes>"
            ]
          },
          "metadata": {},
          "output_type": "display_data"
        }
      ],
      "source": [
        "import matplotlib.pyplot as plt\n",
        "import seaborn as sns\n",
        "\n",
        "target_counts = df['target'].value_counts()\n",
        "labels = ['Negative', 'Positive']\n",
        "\n",
        "# bar plot\n",
        "plt.figure(figsize=(8, 6))\n",
        "sns.barplot(x=labels, y=target_counts.values, palette=(\"red\",\"blue\"))\n",
        "plt.title('Distribution of Sentiment Targets')\n",
        "plt.ylabel('Number of Tweets')\n",
        "plt.show()"
      ]
    },
    {
      "cell_type": "code",
      "execution_count": null,
      "metadata": {
        "colab": {
          "base_uri": "https://localhost:8080/",
          "height": 521
        },
        "id": "GBTE9e2vv2tM",
        "outputId": "28dccb95-0540-4496-f08e-828bbf0b017e"
      },
      "outputs": [
        {
          "data": {
            "image/png": "[encoded data removed]",
            "text/plain": [
              "<Figure size 800x600 with 1 Axes>"
            ]
          },
          "metadata": {},
          "output_type": "display_data"
        }
      ],
      "source": [
        "# pie chart plot\n",
        "plt.figure(figsize=(8, 6))\n",
        "plt.pie(target_counts, labels=labels, autopct='%1.1f%%', startangle=90, colors=(\"red\", \"blue\"))  # Changes here\n",
        "plt.title('Distribution of Sentiment Targets')\n",
        "\n",
        "plt.show()"
      ]
    },
    {
      "cell_type": "markdown",
      "metadata": {
        "id": "UuEGJxs9AxzO"
      },
      "source": [
        "The amount of data for each label (positive or negative) is balanced with each label amounting to 800,000 data"
      ]
    },
    {
      "cell_type": "markdown",
      "metadata": {
        "id": "fb1Q2GmAfOhX"
      },
      "source": [
        "### Data reduction"
      ]
    },
    {
      "cell_type": "markdown",
      "metadata": {
        "id": "1V6l1c5Sf5SX"
      },
      "source": [
        "Because the dataset is very large with 1.6 million data, i decided to reduce the data proportionally"
      ]
    },
    {
      "cell_type": "code",
      "execution_count": null,
      "metadata": {
        "id": "MgU6VFoaKrOT",
        "outputId": "bd0caa36-039c-4c5d-a41f-d6a135c2a712"
      },
      "outputs": [
        {
          "name": "stdout",
          "output_type": "stream",
          "text": [
            "Collecting scikit-learn\n",
            "  Downloading scikit_learn-1.6.0-cp311-cp311-win_amd64.whl.metadata (15 kB)\n",
            "Requirement already satisfied: numpy>=1.19.5 in c:\\users\\lenovo\\appdata\\local\\programs\\python\\python311\\lib\\site-packages (from scikit-learn) (1.26.4)\n",
            "Collecting scipy>=1.6.0 (from scikit-learn)\n",
            "  Downloading scipy-1.14.1-cp311-cp311-win_amd64.whl.metadata (60 kB)\n",
            "Collecting joblib>=1.2.0 (from scikit-learn)\n",
            "  Using cached joblib-1.4.2-py3-none-any.whl.metadata (5.4 kB)\n",
            "Collecting threadpoolctl>=3.1.0 (from scikit-learn)\n",
            "  Using cached threadpoolctl-3.5.0-py3-none-any.whl.metadata (13 kB)\n",
            "Downloading scikit_learn-1.6.0-cp311-cp311-win_amd64.whl (11.1 MB)\n",
            "   ---------------------------------------- 0.0/11.1 MB ? eta -:--:--\n",
            "    --------------------------------------- 0.3/11.1 MB ? eta -:--:--\n",
            "   -- ------------------------------------- 0.8/11.1 MB 2.2 MB/s eta 0:00:05\n",
            "   ----- ---------------------------------- 1.6/11.1 MB 2.8 MB/s eta 0:00:04\n",
            "   ------- -------------------------------- 2.1/11.1 MB 3.2 MB/s eta 0:00:03\n",
            "   ----------- ---------------------------- 3.1/11.1 MB 3.6 MB/s eta 0:00:03\n",
            "   -------------- ------------------------- 3.9/11.1 MB 3.4 MB/s eta 0:00:03\n",
            "   ---------------- ----------------------- 4.5/11.1 MB 3.4 MB/s eta 0:00:02\n",
            "   ------------------ --------------------- 5.2/11.1 MB 3.4 MB/s eta 0:00:02\n",
            "   -------------------- ------------------- 5.8/11.1 MB 3.3 MB/s eta 0:00:02\n",
            "   ----------------------- ---------------- 6.6/11.1 MB 3.3 MB/s eta 0:00:02\n",
            "   -------------------------- ------------- 7.3/11.1 MB 3.4 MB/s eta 0:00:02\n",
            "   ----------------------------- ---------- 8.1/11.1 MB 3.4 MB/s eta 0:00:01\n",
            "   -------------------------------- ------- 9.2/11.1 MB 3.5 MB/s eta 0:00:01\n",
            "   ---------------------------------- ----- 9.7/11.1 MB 3.5 MB/s eta 0:00:01\n",
            "   ------------------------------------- -- 10.5/11.1 MB 3.5 MB/s eta 0:00:01\n",
            "   ---------------------------------------- 11.1/11.1 MB 3.6 MB/s eta 0:00:00\n",
            "Using cached joblib-1.4.2-py3-none-any.whl (301 kB)\n",
            "Downloading scipy-1.14.1-cp311-cp311-win_amd64.whl (44.8 MB)\n",
            "   ---------------------------------------- 0.0/44.8 MB ? eta -:--:--\n",
            "   ---------------------------------------- 0.5/44.8 MB 3.4 MB/s eta 0:00:14\n",
            "   - -------------------------------------- 1.3/44.8 MB 3.4 MB/s eta 0:00:13\n",
            "   - -------------------------------------- 2.1/44.8 MB 3.3 MB/s eta 0:00:14\n",
            "   -- ------------------------------------- 2.6/44.8 MB 3.4 MB/s eta 0:00:13\n",
            "   --- ------------------------------------ 3.7/44.8 MB 3.5 MB/s eta 0:00:12\n",
            "   --- ------------------------------------ 4.2/44.8 MB 3.5 MB/s eta 0:00:12\n",
            "   ---- ----------------------------------- 5.0/44.8 MB 3.4 MB/s eta 0:00:12\n",
            "   ----- ---------------------------------- 5.8/44.8 MB 3.5 MB/s eta 0:00:12\n",
            "   ----- ---------------------------------- 6.6/44.8 MB 3.5 MB/s eta 0:00:12\n",
            "   ------ --------------------------------- 7.3/44.8 MB 3.5 MB/s eta 0:00:11\n",
            "   ------- -------------------------------- 8.1/44.8 MB 3.6 MB/s eta 0:00:11\n",
            "   ------- -------------------------------- 8.9/44.8 MB 3.6 MB/s eta 0:00:10\n",
            "   -------- ------------------------------- 9.2/44.8 MB 3.6 MB/s eta 0:00:10\n",
            "   -------- ------------------------------- 10.0/44.8 MB 3.5 MB/s eta 0:00:10\n",
            "   --------- ------------------------------ 10.7/44.8 MB 3.5 MB/s eta 0:00:10\n",
            "   ---------- ----------------------------- 11.5/44.8 MB 3.5 MB/s eta 0:00:10\n",
            "   ----------- ---------------------------- 12.3/44.8 MB 3.6 MB/s eta 0:00:10\n",
            "   ----------- ---------------------------- 13.1/44.8 MB 3.5 MB/s eta 0:00:09\n",
            "   ------------ --------------------------- 13.9/44.8 MB 3.6 MB/s eta 0:00:09\n",
            "   ------------- -------------------------- 14.7/44.8 MB 3.6 MB/s eta 0:00:09\n",
            "   ------------- -------------------------- 15.5/44.8 MB 3.6 MB/s eta 0:00:09\n",
            "   -------------- ------------------------- 16.3/44.8 MB 3.6 MB/s eta 0:00:08\n",
            "   --------------- ------------------------ 17.0/44.8 MB 3.6 MB/s eta 0:00:08\n",
            "   --------------- ------------------------ 17.8/44.8 MB 3.6 MB/s eta 0:00:08\n",
            "   ---------------- ----------------------- 18.4/44.8 MB 3.6 MB/s eta 0:00:08\n",
            "   ----------------- ---------------------- 19.1/44.8 MB 3.6 MB/s eta 0:00:08\n",
            "   ----------------- ---------------------- 19.7/44.8 MB 3.6 MB/s eta 0:00:08\n",
            "   ------------------ --------------------- 20.2/44.8 MB 3.5 MB/s eta 0:00:07\n",
            "   ------------------ --------------------- 21.0/44.8 MB 3.5 MB/s eta 0:00:07\n",
            "   ------------------- -------------------- 21.5/44.8 MB 3.5 MB/s eta 0:00:07\n",
            "   ------------------- -------------------- 22.0/44.8 MB 3.5 MB/s eta 0:00:07\n",
            "   -------------------- ------------------- 22.5/44.8 MB 3.4 MB/s eta 0:00:07\n",
            "   -------------------- ------------------- 23.3/44.8 MB 3.4 MB/s eta 0:00:07\n",
            "   --------------------- ------------------ 23.9/44.8 MB 3.4 MB/s eta 0:00:07\n",
            "   ---------------------- ----------------- 24.6/44.8 MB 3.4 MB/s eta 0:00:06\n",
            "   ---------------------- ----------------- 25.4/44.8 MB 3.4 MB/s eta 0:00:06\n",
            "   ----------------------- ---------------- 26.2/44.8 MB 3.5 MB/s eta 0:00:06\n",
            "   ------------------------ --------------- 27.0/44.8 MB 3.5 MB/s eta 0:00:06\n",
            "   ------------------------ --------------- 27.5/44.8 MB 3.5 MB/s eta 0:00:05\n",
            "   ------------------------- -------------- 28.3/44.8 MB 3.5 MB/s eta 0:00:05\n",
            "   -------------------------- ------------- 29.4/44.8 MB 3.5 MB/s eta 0:00:05\n",
            "   -------------------------- ------------- 30.1/44.8 MB 3.5 MB/s eta 0:00:05\n",
            "   --------------------------- ------------ 30.7/44.8 MB 3.5 MB/s eta 0:00:05\n",
            "   --------------------------- ------------ 31.2/44.8 MB 3.5 MB/s eta 0:00:04\n",
            "   ---------------------------- ----------- 32.0/44.8 MB 3.5 MB/s eta 0:00:04\n",
            "   ----------------------------- ---------- 32.8/44.8 MB 3.5 MB/s eta 0:00:04\n",
            "   ----------------------------- ---------- 33.3/44.8 MB 3.5 MB/s eta 0:00:04\n",
            "   ------------------------------ --------- 33.8/44.8 MB 3.4 MB/s eta 0:00:04\n",
            "   ------------------------------ --------- 34.3/44.8 MB 3.4 MB/s eta 0:00:04\n",
            "   ------------------------------ --------- 34.6/44.8 MB 3.4 MB/s eta 0:00:03\n",
            "   ------------------------------- -------- 35.1/44.8 MB 3.4 MB/s eta 0:00:03\n",
            "   ------------------------------- -------- 35.7/44.8 MB 3.3 MB/s eta 0:00:03\n",
            "   -------------------------------- ------- 36.2/44.8 MB 3.3 MB/s eta 0:00:03\n",
            "   -------------------------------- ------- 36.7/44.8 MB 3.3 MB/s eta 0:00:03\n",
            "   --------------------------------- ------ 37.5/44.8 MB 3.3 MB/s eta 0:00:03\n",
            "   --------------------------------- ------ 38.0/44.8 MB 3.3 MB/s eta 0:00:03\n",
            "   ---------------------------------- ----- 38.5/44.8 MB 3.3 MB/s eta 0:00:02\n",
            "   ----------------------------------- ---- 39.3/44.8 MB 3.3 MB/s eta 0:00:02\n",
            "   ----------------------------------- ---- 40.1/44.8 MB 3.3 MB/s eta 0:00:02\n",
            "   ------------------------------------ --- 41.2/44.8 MB 3.3 MB/s eta 0:00:02\n",
            "   ------------------------------------- -- 41.9/44.8 MB 3.3 MB/s eta 0:00:01\n",
            "   -------------------------------------- - 42.7/44.8 MB 3.4 MB/s eta 0:00:01\n",
            "   -------------------------------------- - 43.5/44.8 MB 3.4 MB/s eta 0:00:01\n",
            "   ---------------------------------------  44.3/44.8 MB 3.4 MB/s eta 0:00:01\n",
            "   ---------------------------------------- 44.8/44.8 MB 3.4 MB/s eta 0:00:00\n",
            "Using cached threadpoolctl-3.5.0-py3-none-any.whl (18 kB)\n",
            "Installing collected packages: threadpoolctl, scipy, joblib, scikit-learn\n",
            "Successfully installed joblib-1.4.2 scikit-learn-1.6.0 scipy-1.14.1 threadpoolctl-3.5.0\n",
            "Note: you may need to restart the kernel to use updated packages.\n"
          ]
        }
      ],
      "source": [
        "pip install scikit-learn"
      ]
    },
    {
      "cell_type": "code",
      "execution_count": null,
      "metadata": {
        "colab": {
          "base_uri": "https://localhost:8080/"
        },
        "id": "msynbHlMfTuy",
        "outputId": "b71cd2e3-b6dd-44cb-df7d-84f32d019b28"
      },
      "outputs": [
        {
          "name": "stdout",
          "output_type": "stream",
          "text": [
            "Original Dataset Shape: (1600000, 2)\n",
            "Reduced Dataset Shape: (160000, 2)\n"
          ]
        }
      ],
      "source": [
        "from sklearn.model_selection import train_test_split\n",
        "\n",
        "train_df, reduced_df = train_test_split(df, test_size=0.1, random_state=42, stratify=df['target'])\n",
        "\n",
        "print(f\"Original Dataset Shape: {df.shape}\")\n",
        "print(f\"Reduced Dataset Shape: {reduced_df.shape}\")\n"
      ]
    },
    {
      "cell_type": "markdown",
      "metadata": {
        "id": "cJFW2nHP3GnL"
      },
      "source": [
        "The reduced data is loaded into a new DataFrame called **reduced_df**, trimming **90%** of the original data leaving only **160,000** data entries."
      ]
    },
    {
      "cell_type": "code",
      "execution_count": null,
      "metadata": {
        "colab": {
          "base_uri": "https://localhost:8080/",
          "height": 652
        },
        "id": "LQuwM43BxRgo",
        "outputId": "9b495753-0d81-43d8-e6a5-630893fda35d"
      },
      "outputs": [
        {
          "name": "stderr",
          "output_type": "stream",
          "text": [
            "<ipython-input-23-c347c643ea54>:5: FutureWarning: \n",
            "\n",
            "Passing `palette` without assigning `hue` is deprecated and will be removed in v0.14.0. Assign the `x` variable to `hue` and set `legend=False` for the same effect.\n",
            "\n",
            "  sns.barplot(x=labels_reduced, y=target_counts_reduced.values, palette=(\"red\", \"blue\"))\n"
          ]
        },
        {
          "data": {
            "image/png": "[encoded data removed]",
            "text/plain": [
              "<Figure size 800x600 with 1 Axes>"
            ]
          },
          "metadata": {},
          "output_type": "display_data"
        }
      ],
      "source": [
        "target_counts_reduced = reduced_df['target'].value_counts()\n",
        "labels_reduced = ['Negative', 'Positive']\n",
        "\n",
        "plt.figure(figsize=(8, 6))\n",
        "sns.barplot(x=labels_reduced, y=target_counts_reduced.values, palette=(\"red\", \"blue\"))\n",
        "plt.title('Distribution of Sentiment Targets (Reduced Dataset)')\n",
        "plt.ylabel('Number of Tweets')\n",
        "plt.show()"
      ]
    },
    {
      "cell_type": "code",
      "execution_count": null,
      "metadata": {
        "colab": {
          "base_uri": "https://localhost:8080/"
        },
        "id": "YpjiggcvLFfO",
        "outputId": "c19dd65d-cf75-4042-db4f-b5b19580f5a6"
      },
      "outputs": [
        {
          "name": "stdout",
          "output_type": "stream",
          "text": [
            "Average text length: 74.07328125\n",
            "Maximum text length: 348\n",
            "Minimum text length: 7\n"
          ]
        }
      ],
      "source": [
        "reduced_df['text_length'] = reduced_df['text'].str.len()\n",
        "\n",
        "# find out the average, maximum, and minimum text length\n",
        "avg_length = reduced_df['text_length'].mean()\n",
        "max_length = reduced_df['text_length'].max()\n",
        "min_length = reduced_df['text_length'].min()\n",
        "\n",
        "print(f\"Average text length: {avg_length}\")\n",
        "print(f\"Maximum text length: {max_length}\")\n",
        "print(f\"Minimum text length: {min_length}\")"
      ]
    },
    {
      "cell_type": "markdown",
      "metadata": {
        "id": "9aiU14x7PKih"
      },
      "source": [
        "From here we know that the text length range is between (7 to 348 characters).\n",
        "\n",
        "To get more informative data, below I will map the length distribution of each text from the dataset."
      ]
    },
    {
      "cell_type": "code",
      "execution_count": null,
      "metadata": {
        "colab": {
          "base_uri": "https://localhost:8080/",
          "height": 564
        },
        "id": "ngUnGWW1MiUG",
        "outputId": "8d9345dd-51e1-46ab-902d-84f642319f7f"
      },
      "outputs": [
        {
          "data": {
            "image/png": "[encoded data removed]",
            "text/plain": [
              "<Figure size 1000x600 with 1 Axes>"
            ]
          },
          "metadata": {},
          "output_type": "display_data"
        }
      ],
      "source": [
        "# Distribution of text lengths\n",
        "plt.figure(figsize=(10, 6))\n",
        "sns.histplot(reduced_df['text_length'], bins=50, kde=True)  # using histogram with KDE\n",
        "plt.title('Distribution of Text Lengths')\n",
        "plt.xlabel('Text Length')\n",
        "plt.ylabel('Frequency')\n",
        "plt.show()"
      ]
    },
    {
      "cell_type": "markdown",
      "metadata": {
        "id": "UDx8myGzOnZT"
      },
      "source": [
        "* Moderate text length: Not too short (context enough), and not too long (computationally efficient). So the data will fit the BERT model because **BERT excels at understanding short contexts**, where relationships between tokens are more easily captured by **self-attention** mechanisms.\n",
        "* No significant outlier distribution at extreme lengths (e.g. > 300 characters)\n",
        "* With this distribution, we think it would be more efficient to use **Dynamic Padding**. Where Dynamic padding means the padding length will be adjusted based on the longest text in each batch, not the entire static dataset.\n",
        "* **Truncation may not occur too often** because the average character length is under 150 characters (the resulting token will probably not be more than the *maximum sequence length* of BERT, namely a token of **512 tokens** if you look at the distribution of character lengths like This).\n",
        "* Datasets with shorter text will allow for faster latency and processing, as BERT works more efficiently on short text"
      ]
    },
    {
      "cell_type": "markdown",
      "metadata": {
        "id": "bNGR9bRvBG60"
      },
      "source": [
        "#### Saving df into drive"
      ]
    },
    {
      "cell_type": "code",
      "execution_count": null,
      "metadata": {
        "id": "BQKykKgNcFkk"
      },
      "outputs": [],
      "source": [
        "#from google.colab import drive\n",
        "#drive.mount('/content/drive')"
      ]
    },
    {
      "cell_type": "code",
      "execution_count": null,
      "metadata": {
        "id": "3uGBzce9cK9A"
      },
      "outputs": [],
      "source": [
        "#reduced_df.to_csv('/content/drive/MyDrive/ASG/Dataset Tex Mining Project/sentiment_analysis_dataa.csv', index=False)"
      ]
    },
    {
      "cell_type": "markdown",
      "metadata": {
        "id": "tMCJ0zQdVesf"
      },
      "source": [
        "#### **Conclusion in Dataset Exploration:**\n",
        "\n",
        "* The initial dataset used contained 1.6 million data with **6 features** which I then carried out **dimensionality reduction** to become **2 features**, namely target (sentiment label) and text (text content). Sentiment labels consist of two categories, namely **0 (negative) and 4 (positive)**, with a balanced distribution (800,000 data each).\n",
        "* Clean dataset from null/missing videos\n",
        "* To reduce the size of a very large dataset, **data reduction** is carried out proportionally to 160,000 data (10% of the initial data), while maintaining a balanced label distribution.\n",
        "* Text length analysis shows that the average text length is 74 characters, with a length ranging from 7 to 348 characters. Text distribution tends to be under 150 characters, making it suitable for use with BERT models. With dynamic padding, the BERT model can utilize memory and computation efficiently, and capture short text context optimally using a self-attention mechanism."
      ]
    },
    {
      "cell_type": "markdown",
      "metadata": {
        "id": "ck7AS7069yvG"
      },
      "source": [
        "## **Preprocessing Text dengan BERT**"
      ]
    },
    {
      "cell_type": "markdown",
      "metadata": {
        "id": "yVq-s3KFPmL6"
      },
      "source": [
        "Based on initial objectives, dataset exploration results and consideration of the computing resources i have. I chose to use **BERT (Bidirectional Encoder Representation from Transformer**) in text processing (**NLP**)."
      ]
    },
    {
      "cell_type": "markdown",
      "metadata": {
        "id": "by0ymmInQDMy"
      },
      "source": [
        "![1_DpgA3bbFBmQ9I_amVDFvCQ.png](data:image/png;base64,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)"
      ]
    },
    {
      "cell_type": "markdown",
      "metadata": {
        "id": "xjiWYysKQi9o"
      },
      "source": [
        "**Considerations for Using BERT in This Project**:\n",
        "\n",
        "1. The topic raised is \"**Sentiment Analysis**\", so a model is needed that is able to capture the context and nuances of text well to increase the accuracy of sentiment classification.\n",
        "2. We want to strive to achieve **maximum results**, leveraging newer technologies in natural language processing (NLP) to overcome the limitations of previous approaches.\n",
        "3. As in the picture above, **Context Independent is separate from Context Dependent**. In context independence, it can produce the same vector representation for each text because it does not pay attention to the context of a text. For example **\"I'am watering the flower\"** with **\"I'am drinking a water\"**, the word **\"water\"** here will have a different vector value if using BERT (context dependent) because the word is used in different contexts\n",
        "4. **Using BERT is also an interesting new challenge**, considering that I have used a word embedding-based approach with traditional machine learning algorithms several times in projects in previous semesters such as in the *machine learning* course."
      ]
    },
    {
      "cell_type": "code",
      "execution_count": null,
      "metadata": {
        "id": "7YCl72m_92YB"
      },
      "outputs": [],
      "source": [
        "# library\n",
        "import torch\n",
        "import numpy as np\n",
        "from transformers import BertTokenizer\n",
        "import pandas as pd"
      ]
    },
    {
      "cell_type": "markdown",
      "metadata": {
        "id": "u64tmHQjFG1S"
      },
      "source": [
        "**Tokenizer**\n",
        "\n",
        "* **BERT-Base (Cased)** : BERT model that preserves the case of the input text. For example, \"**Apple**\" and \"**apple**\" would be considered **different**."
      ]
    },
    {
      "cell_type": "code",
      "execution_count": null,
      "metadata": {
        "colab": {
          "base_uri": "https://localhost:8080/",
          "height": 269,
          "referenced_widgets": [
            "fde0629beb0643ad920c895c3bdf32dd",
            "c6da9a4453a443f09dba0a48eb4be78b",
            "47a0a4db5fed43f7a1612465bc355f7f",
            "cc60acf84c294d33be3db69ea67f21b2",
            "803ccae954e54d45968a27c8c9d5544f",
            "b2d97b85cc6e48ad9fc1d608f4cf1c43",
            "87b3d4b9ac8f46cda04f5618e9e32d2d",
            "1956b063a87844b684c1046140e45ef7",
            "51aca2fc2db34b4a825ebc76c4ee5b75",
            "7e12d2c7d8f94ccdb36b4db1549f1c79",
            "fb507a19ae8b40809f8a843781050b59",
            "b7bb2a6593524deaa9930e7bf5ada1fb",
            "740d60f29f7443bc9021f4e75cd7307e",
            "13c52fb794004136b18b42acf0d30b1b",
            "af0afe95fafd4fa182e0e52716d6f881",
            "87e6f7e6364240228e97656802546cd4",
            "ca54cd5bf027485b9454123f0b892af5",
            "3f76f1bb454b4cf6b778e14699c4dcec",
            "13661c19fda64fa8a68ba82da2786c1c",
            "6cb5eca80fbb4737a1d7feaa5bc99c10",
            "b17c1f18ae9f49a79d0b82a17f37b51f",
            "6c56586d2b1e470d8e7a237f38e5d821",
            "f68d3d0eaf57436488a91da112c58647",
            "a868c9eea7cb474d8180cf97de14f1fa",
            "bd0c2ee4d28b40478cea477a04550376",
            "8359a8b1d11b49ef957361d225d4ece9",
            "b171cdd6d73d4fe396ac125d9a9746e2",
            "38816c6ecf874cfbb146e89cc0056270",
            "759bbb9a990449348e2289a00d273303",
            "505cb4ce4b5a4fec8aabd94380a6e292",
            "95fc8f09740c4f9082a5dbe80a1f0a5e",
            "2867bc9467c94158be25815b72519796",
            "3b6a21c083f742bb9bbb7ffef5e3b170",
            "8481d4e239ec4b579f17c860c62a6d90",
            "92dbe4af798d4dca99b9a2126584df10",
            "dfe2aca8c0d64302a64cc00a32c5f22f",
            "5256a6dead3047fe83b9f9d37f736f44",
            "fd7981d9b6e545f88e961d74762eb4b7",
            "c6efdd164ca942618533f4899ea61117",
            "8cc05ee3ff7f491cbe23578334950ea4",
            "a9f9490c917c443bb60014c1091bd1d5",
            "a4465d799f994ee1a60bd1d7ee7c3fb6",
            "4bcfe9c1491c4ff6b324a3135bd12055",
            "ee1e0975ba264cbab17d9c94e903d985"
          ]
        },
        "id": "mRRFHz9jApSw",
        "outputId": "b6009fcb-45aa-44de-f74b-5de3500493fc"
      },
      "outputs": [
        {
          "name": "stderr",
          "output_type": "stream",
          "text": [
            "/usr/local/lib/python3.10/dist-packages/huggingface_hub/utils/_auth.py:94: UserWarning: \n",
            "The secret `HF_TOKEN` does not exist in your Colab secrets.\n",
            "To authenticate with the Hugging Face Hub, create a token in your settings tab (https://huggingface.co/settings/tokens), set it as secret in your Google Colab and restart your session.\n",
            "You will be able to reuse this secret in all of your notebooks.\n",
            "Please note that authentication is recommended but still optional to access public models or datasets.\n",
            "  warnings.warn(\n"
          ]
        },
        {
          "data": {
            "application/vnd.jupyter.widget-view+json": {
              "model_id": "fde0629beb0643ad920c895c3bdf32dd",
              "version_major": 2,
              "version_minor": 0
            },
            "text/plain": [
              "tokenizer_config.json:   0%|          | 0.00/49.0 [00:00<?, ?B/s]"
            ]
          },
          "metadata": {},
          "output_type": "display_data"
        },
        {
          "data": {
            "application/vnd.jupyter.widget-view+json": {
              "model_id": "b7bb2a6593524deaa9930e7bf5ada1fb",
              "version_major": 2,
              "version_minor": 0
            },
            "text/plain": [
              "vocab.txt:   0%|          | 0.00/213k [00:00<?, ?B/s]"
            ]
          },
          "metadata": {},
          "output_type": "display_data"
        },
        {
          "data": {
            "application/vnd.jupyter.widget-view+json": {
              "model_id": "f68d3d0eaf57436488a91da112c58647",
              "version_major": 2,
              "version_minor": 0
            },
            "text/plain": [
              "tokenizer.json:   0%|          | 0.00/436k [00:00<?, ?B/s]"
            ]
          },
          "metadata": {},
          "output_type": "display_data"
        },
        {
          "data": {
            "application/vnd.jupyter.widget-view+json": {
              "model_id": "8481d4e239ec4b579f17c860c62a6d90",
              "version_major": 2,
              "version_minor": 0
            },
            "text/plain": [
              "config.json:   0%|          | 0.00/570 [00:00<?, ?B/s]"
            ]
          },
          "metadata": {},
          "output_type": "display_data"
        }
      ],
      "source": [
        "tokenizer = BertTokenizer.from_pretrained('bert-base-cased')\n"
      ]
    },
    {
      "cell_type": "markdown",
      "metadata": {
        "id": "lJz_So8CGVgZ"
      },
      "source": [
        "Example : tokenizer dari BERT"
      ]
    },
    {
      "cell_type": "code",
      "execution_count": null,
      "metadata": {
        "colab": {
          "base_uri": "https://localhost:8080/"
        },
        "id": "Ruly3bCSGSpK",
        "outputId": "d8836679-fcf7-43e2-912e-f8bccad91fbe"
      },
      "outputs": [
        {
          "name": "stdout",
          "output_type": "stream",
          "text": [
            "['Hello', 'hello', ',', 'I', 'am', 'Ren', '##dra', 'from', 'Bin', '##us', '!']\n",
            "[8667, 19082, 117, 146, 1821, 16513, 7412, 1121, 21700, 1361, 106]\n"
          ]
        }
      ],
      "source": [
        "text = \"Hello hello, I am Rendra from Binus!\"\n",
        "tokens = tokenizer.tokenize(text)\n",
        "print(tokens)\n",
        "token_ids = tokenizer.convert_tokens_to_ids(tokens)\n",
        "print(token_ids)"
      ]
    },
    {
      "cell_type": "markdown",
      "metadata": {
        "id": "k8IFjCJeTg0K"
      },
      "source": [
        "**Explanation :**\n",
        "\n",
        "* This Tokenization function is to break a text into smaller pieces called tokens.\n",
        "* With the **BERT** model which is **cased**, it will take into account the difference between upper and lower case letters. So, the words \"hello\" and \"Hello\" will be perceived differently.\n",
        "* tokens_id: Converts these tokens into IDs that are used by the model to perform further computations."
      ]
    },
    {
      "cell_type": "code",
      "execution_count": null,
      "metadata": {
        "id": "jlyO--DHCgWT"
      },
      "outputs": [],
      "source": [
        "class Dataset(torch.utils.data.Dataset):\n",
        "\n",
        "    # To initialize the dataset, prepare text and labels\n",
        "    def __init__(self, reduced_df):\n",
        "\n",
        "        # Take the modified 'target' column directly in the dataframe\n",
        "        self.labels = reduced_df['target'].tolist()\n",
        "        # Tokenize each text, dynamic padding, active truncation and return output in PyTorch tensor (\"pt\") format.\n",
        "        self.texts = [tokenizer(text,\n",
        "                                padding=True, truncation=True,\n",
        "                                return_tensors=\"pt\") for text in reduced_df['text']]\n",
        "\n",
        "    # Function to return all labels from a dataset\n",
        "    def classes(self):\n",
        "        return self.labels\n",
        "\n",
        "    # Fungsii untuk mengembalikan panjang dataset (jumlah total data)\n",
        "    def __len__(self):\n",
        "        return len(self.labels)\n",
        "\n",
        "    # Function to return the length of the dataset (total amount of data)\n",
        "    def get_batch_labels(self, idx):\n",
        "        # Retrieves labels for a specific batch\n",
        "        return np.array(self.labels[idx])\n",
        "\n",
        "    # Function to retrieve batches of text based on index\n",
        "    def get_batch_texts(self, idx):\n",
        "        # Retrieves processed text (tokenization) for a specific batch\n",
        "        return self.texts[idx]\n",
        "\n",
        "    # Function to retrieve items based on index (batch text and labels)\n",
        "    def __getitem__(self, idx):\n",
        "        # Retrieves text and labels for a specific batch\n",
        "        batch_texts = self.get_batch_texts(idx)\n",
        "        batch_y = self.get_batch_labels(idx)\n",
        "\n",
        "        # Returns batches of text and labels\n",
        "        return batch_texts, batch_y"
      ]
    },
    {
      "cell_type": "code",
      "execution_count": null,
      "metadata": {
        "id": "nfyf3HAhA4GE"
      },
      "outputs": [],
      "source": [
        "def collate_fn(batch):\n",
        "    # Compiles the input_ids and attention_mask of each batch\n",
        "    input_ids = [item[0]['input_ids'].squeeze(0) for item in batch]  # Retrieve  input_ids\n",
        "    attention_mask = [item[0]['attention_mask'].squeeze(0) for item in batch]  # Retrieve  attention_mask\n",
        "    labels = torch.tensor([item[1].item() for item in batch])      # Retrieve label from item batch (second data)\n",
        "\n",
        "    # Pad input_ids and attention_mask to maximum length in batch\n",
        "    input_ids = torch.nn.utils.rnn.pad_sequence(input_ids, batch_first=True, padding_value=tokenizer.pad_token_id)\n",
        "    attention_mask = torch.nn.utils.rnn.pad_sequence(attention_mask, batch_first=True, padding_value=0)\n",
        "\n",
        "    return {'input_ids': input_ids, 'attention_mask': attention_mask}, labels"
      ]
    },
    {
      "cell_type": "markdown",
      "metadata": {
        "id": "7iRliqlZg4wu"
      },
      "source": [
        "#### **Splitting Data**"
      ]
    },
    {
      "cell_type": "markdown",
      "metadata": {
        "id": "IqvmHQd8lXvt"
      },
      "source": [
        "**Splitting:**\n",
        "\n",
        "df_train: 80% of data for training\n",
        "\n",
        "df_val: 10% of data for validation\n",
        "\n",
        "df_test: 10% of data for testing"
      ]
    },
    {
      "cell_type": "code",
      "execution_count": null,
      "metadata": {
        "colab": {
          "base_uri": "https://localhost:8080/"
        },
        "id": "4vJ_V00FDfoU",
        "outputId": "c0a2174b-4a2e-4f01-839f-2d6b816ae259"
      },
      "outputs": [
        {
          "name": "stdout",
          "output_type": "stream",
          "text": [
            "128000 16000 16000\n"
          ]
        },
        {
          "name": "stderr",
          "output_type": "stream",
          "text": [
            "/usr/local/lib/python3.10/dist-packages/numpy/core/fromnumeric.py:59: FutureWarning: 'DataFrame.swapaxes' is deprecated and will be removed in a future version. Please use 'DataFrame.transpose' instead.\n",
            "  return bound(*args, **kwds)\n"
          ]
        }
      ],
      "source": [
        "np.random.seed(112) # Randomly shuffle the order of data in reduced_df with a fixed seed (so that the results can be reproduced).\n",
        "df_train, df_val, df_test = np.split(reduced_df.sample(frac=1, random_state=42),\n",
        "                                     [int(.8*len(reduced_df)), int(.9*len(reduced_df))])\n",
        "\n",
        "print(len(df_train),len(df_val), len(df_test))"
      ]
    },
    {
      "cell_type": "markdown",
      "metadata": {
        "id": "XVnWP0PZhCNE"
      },
      "source": [
        "**Hasil:**\n",
        "\n",
        "128.000 = data training\n",
        "\n",
        "16.000 = data validasi\n",
        "\n",
        "16.000 = data testing/uji"
      ]
    },
    {
      "cell_type": "markdown",
      "metadata": {
        "id": "k5PK9Lj2kY50"
      },
      "source": [
        "#### **Model classification untuk BERT**"
      ]
    },
    {
      "cell_type": "code",
      "execution_count": null,
      "metadata": {
        "colab": {
          "base_uri": "https://localhost:8080/"
        },
        "id": "jZTZgzKgfSvz",
        "outputId": "30c18294-3de0-4eea-ca0e-77dac592ec4f"
      },
      "outputs": [
        {
          "name": "stdout",
          "output_type": "stream",
          "text": [
            "Requirement already satisfied: torchvision in /usr/local/lib/python3.10/dist-packages (0.20.1+cu121)\n",
            "Requirement already satisfied: transformers in /usr/local/lib/python3.10/dist-packages (4.46.3)\n",
            "Requirement already satisfied: numpy in /usr/local/lib/python3.10/dist-packages (from torchvision) (1.26.4)\n",
            "Requirement already satisfied: torch==2.5.1 in /usr/local/lib/python3.10/dist-packages (from torchvision) (2.5.1+cu121)\n",
            "Requirement already satisfied: pillow!=8.3.*,>=5.3.0 in /usr/local/lib/python3.10/dist-packages (from torchvision) (11.0.0)\n",
            "Requirement already satisfied: filelock in /usr/local/lib/python3.10/dist-packages (from torch==2.5.1->torchvision) (3.16.1)\n",
            "Requirement already satisfied: typing-extensions>=4.8.0 in /usr/local/lib/python3.10/dist-packages (from torch==2.5.1->torchvision) (4.12.2)\n",
            "Requirement already satisfied: networkx in /usr/local/lib/python3.10/dist-packages (from torch==2.5.1->torchvision) (3.4.2)\n",
            "Requirement already satisfied: jinja2 in /usr/local/lib/python3.10/dist-packages (from torch==2.5.1->torchvision) (3.1.4)\n",
            "Requirement already satisfied: fsspec in /usr/local/lib/python3.10/dist-packages (from torch==2.5.1->torchvision) (2024.10.0)\n",
            "Requirement already satisfied: sympy==1.13.1 in /usr/local/lib/python3.10/dist-packages (from torch==2.5.1->torchvision) (1.13.1)\n",
            "Requirement already satisfied: mpmath<1.4,>=1.1.0 in /usr/local/lib/python3.10/dist-packages (from sympy==1.13.1->torch==2.5.1->torchvision) (1.3.0)\n",
            "Requirement already satisfied: huggingface-hub<1.0,>=0.23.2 in /usr/local/lib/python3.10/dist-packages (from transformers) (0.26.5)\n",
            "Requirement already satisfied: packaging>=20.0 in /usr/local/lib/python3.10/dist-packages (from transformers) (24.2)\n",
            "Requirement already satisfied: pyyaml>=5.1 in /usr/local/lib/python3.10/dist-packages (from transformers) (6.0.2)\n",
            "Requirement already satisfied: regex!=2019.12.17 in /usr/local/lib/python3.10/dist-packages (from transformers) (2024.9.11)\n",
            "Requirement already satisfied: requests in /usr/local/lib/python3.10/dist-packages (from transformers) (2.32.3)\n",
            "Requirement already satisfied: tokenizers<0.21,>=0.20 in /usr/local/lib/python3.10/dist-packages (from transformers) (0.20.3)\n",
            "Requirement already satisfied: safetensors>=0.4.1 in /usr/local/lib/python3.10/dist-packages (from transformers) (0.4.5)\n",
            "Requirement already satisfied: tqdm>=4.27 in /usr/local/lib/python3.10/dist-packages (from transformers) (4.66.6)\n",
            "Requirement already satisfied: charset-normalizer<4,>=2 in /usr/local/lib/python3.10/dist-packages (from requests->transformers) (3.4.0)\n",
            "Requirement already satisfied: idna<4,>=2.5 in /usr/local/lib/python3.10/dist-packages (from requests->transformers) (3.10)\n",
            "Requirement already satisfied: urllib3<3,>=1.21.1 in /usr/local/lib/python3.10/dist-packages (from requests->transformers) (2.2.3)\n",
            "Requirement already satisfied: certifi>=2017.4.17 in /usr/local/lib/python3.10/dist-packages (from requests->transformers) (2024.8.30)\n",
            "Requirement already satisfied: MarkupSafe>=2.0 in /usr/local/lib/python3.10/dist-packages (from jinja2->torch==2.5.1->torchvision) (3.0.2)\n"
          ]
        }
      ],
      "source": [
        "#!pip install torchvision transformers"
      ]
    },
    {
      "cell_type": "code",
      "execution_count": null,
      "metadata": {
        "id": "FU4aSrkXDkv7"
      },
      "outputs": [],
      "source": [
        "from torch import nn\n",
        "from transformers import BertModel\n",
        "\n",
        "# building models with neural networks (nn)\n",
        "class BertClassifier(nn.Module):\n",
        "\n",
        "    def __init__(self, dropout=0.5):\n",
        "\n",
        "        super(BertClassifier, self).__init__()\n",
        "\n",
        "        self.bert = BertModel.from_pretrained('bert-base-cased')\n",
        "        self.dropout = nn.Dropout(dropout) # dropout to prevent overfitting\n",
        "        self.linear = nn.Linear(768, 2) # the output is 2 (0 for negative labels and 1 for positive)\n",
        "        self.relu = nn.ReLU()\n",
        "\n",
        "    def forward(self, input_id, mask):\n",
        "\n",
        "        _, pooled_output = self.bert(input_ids= input_id, attention_mask=mask,return_dict=False)\n",
        "        dropout_output = self.dropout(pooled_output)\n",
        "        linear_output = self.linear(dropout_output)\n",
        "        final_layer = self.relu(linear_output)\n",
        "\n",
        "        return final_layer"
      ]
    },
    {
      "cell_type": "markdown",
      "metadata": {
        "id": "edf8saGPmmIV"
      },
      "source": [
        "I use ReLU (Rectified Linear Unit) because RelU will convert the linear output into positive or zero values, which helps the model learn non-linear representations."
      ]
    },
    {
      "cell_type": "markdown",
      "metadata": {
        "id": "7BFoofxAkefb"
      },
      "source": [
        "#### **Training Data**"
      ]
    },
    {
      "cell_type": "code",
      "execution_count": null,
      "metadata": {
        "colab": {
          "base_uri": "https://localhost:8080/"
        },
        "id": "qNTQzyPLtAa6",
        "outputId": "007be418-9333-4ef8-98b3-68c183688766"
      },
      "outputs": [
        {
          "data": {
            "text/plain": [
              "True"
            ]
          },
          "execution_count": 34,
          "metadata": {},
          "output_type": "execute_result"
        }
      ],
      "source": [
        "# check whether the GPU is active\n",
        "torch.cuda.is_available()"
      ]
    },
    {
      "cell_type": "code",
      "execution_count": null,
      "metadata": {
        "colab": {
          "base_uri": "https://localhost:8080/",
          "height": 208,
          "referenced_widgets": [
            "7f5db2006f9f4e12b6e90b65d3ae1c8b",
            "550e4162683846f5af04b8d6491612cd",
            "226fd286194b495ea77d11dea0e1649c",
            "2375d10338c346ecb3ac8387bd03a577",
            "9b1e1258219e4898aaa7470f37e5d8d6",
            "1ee43abecfaf4abd8c50e3cf483a674a",
            "a26650d85bbf4e2a98a12c6dcdabfbc9",
            "8fcd76e124cf460f838138339f38947e",
            "c15cc174186c468ba1b82d1689ed4373",
            "5387214147fe46d396cde6b68cbefba7",
            "a02d2f4b935a401db2c018d72db20925"
          ]
        },
        "id": "7_he0-eEDvWc",
        "outputId": "c3d33ec4-72da-4b00-8d05-638781587c79"
      },
      "outputs": [
        {
          "data": {
            "application/vnd.jupyter.widget-view+json": {
              "model_id": "7f5db2006f9f4e12b6e90b65d3ae1c8b",
              "version_major": 2,
              "version_minor": 0
            },
            "text/plain": [
              "model.safetensors:   0%|          | 0.00/436M [00:00<?, ?B/s]"
            ]
          },
          "metadata": {},
          "output_type": "display_data"
        },
        {
          "metadata": {
            "tags": null
          },
          "name": "stderr",
          "output_type": "stream",
          "text": [
            "100%|██████████| 4000/4000 [17:24<00:00,  3.83it/s]\n"
          ]
        },
        {
          "metadata": {
            "tags": null
          },
          "name": "stdout",
          "output_type": "stream",
          "text": [
            "Epochs: 1 | Train Loss:  0.015             | Train Accuracy:  0.753             | Val Loss:  0.013             | Val Accuracy:  0.813\n"
          ]
        },
        {
          "metadata": {
            "tags": null
          },
          "name": "stderr",
          "output_type": "stream",
          "text": [
            "100%|██████████| 4000/4000 [17:32<00:00,  3.80it/s]\n"
          ]
        },
        {
          "metadata": {
            "tags": null
          },
          "name": "stdout",
          "output_type": "stream",
          "text": [
            "Epochs: 2 | Train Loss:  0.012             | Train Accuracy:  0.836             | Val Loss:  0.012             | Val Accuracy:  0.824\n"
          ]
        },
        {
          "name": "stderr",
          "output_type": "stream",
          "text": [
            "100%|██████████| 4000/4000 [17:34<00:00,  3.79it/s]\n"
          ]
        },
        {
          "name": "stdout",
          "output_type": "stream",
          "text": [
            "Epochs: 3 | Train Loss:  0.011             | Train Accuracy:  0.855             | Val Loss:  0.012             | Val Accuracy:  0.826\n"
          ]
        },
        {
          "name": "stderr",
          "output_type": "stream",
          "text": [
            "100%|██████████| 4000/4000 [17:33<00:00,  3.80it/s]\n"
          ]
        },
        {
          "name": "stdout",
          "output_type": "stream",
          "text": [
            "Epochs: 4 | Train Loss:  0.010             | Train Accuracy:  0.873             | Val Loss:  0.012             | Val Accuracy:  0.826\n"
          ]
        }
      ],
      "source": [
        "from torch.optim import Adam\n",
        "from tqdm import tqdm\n",
        "\n",
        "# Determine the number of epochs and learning rate\n",
        "EPOCHS = 4\n",
        "LR = 1e-6\n",
        "BATCH_SIZE = 32\n",
        "model = BertClassifier()\n",
        "\n",
        "def train(model, train_data, val_data, learning_rate, epochs):\n",
        "    # Initialize dataset and data loader\n",
        "    train, val = Dataset(train_data), Dataset(val_data)\n",
        "\n",
        "    # Uses a large Batch_size to make optimal use of the GPU\n",
        "    train_dataloader = torch.utils.data.DataLoader(train, batch_size=BATCH_SIZE, shuffle=True, collate_fn=collate_fn)\n",
        "    val_dataloader = torch.utils.data.DataLoader(val, batch_size=BATCH_SIZE, collate_fn=collate_fn)\n",
        "\n",
        "    # Cross entropy loss and optimizer Adam\n",
        "    criterion = nn.CrossEntropyLoss()\n",
        "    optimizer = Adam(model.parameters(), lr=learning_rate)\n",
        "\n",
        "    # Using device : GPU\n",
        "    device = torch.device(\"cuda\")\n",
        "    model = model.to(device)\n",
        "    criterion = criterion.to(device)\n",
        "\n",
        "    for epoch_num in range(epochs):\n",
        "        # Variables to store accuracy and loss during training\n",
        "        total_acc_train = 0\n",
        "        total_loss_train = 0\n",
        "\n",
        "        # Training for each epoch\n",
        "        for train_input, train_label in tqdm(train_dataloader):\n",
        "            # Moving data to device (GPU)\n",
        "            train_label = train_label.to(device)\n",
        "            mask = train_input['attention_mask'].to(device)\n",
        "            input_id = train_input['input_ids'].squeeze(1).to(device)\n",
        "\n",
        "            # Forward pass: calculates the output of the model\n",
        "            output = model(input_id, mask)\n",
        "\n",
        "            # calculates loss\n",
        "            batch_loss = criterion(output, train_label.long())\n",
        "            total_loss_train += batch_loss.item()\n",
        "\n",
        "            # calculates akurasi\n",
        "            acc = (output.argmax(dim=1) == train_label).sum().item()\n",
        "            total_acc_train += acc\n",
        "\n",
        "            # Backward pass: calculates gradien\n",
        "            model.zero_grad()\n",
        "            batch_loss.backward()\n",
        "            optimizer.step()\n",
        "\n",
        "        # Evaluation on validation data\n",
        "        total_acc_val = 0\n",
        "        total_loss_val = 0\n",
        "\n",
        "        with torch.no_grad():\n",
        "            for val_input, val_label in val_dataloader:\n",
        "                # Moving data to device (GPU)\n",
        "                val_label = val_label.to(device)\n",
        "                mask = val_input['attention_mask'].to(device)\n",
        "                input_id = val_input['input_ids'].squeeze(1).to(device)\n",
        "\n",
        "                # Forward pass on validation data\n",
        "                output = model(input_id, mask)\n",
        "\n",
        "                # calculates loss validasi\n",
        "                batch_loss = criterion(output, val_label.long())\n",
        "                total_loss_val += batch_loss.item()\n",
        "\n",
        "                # calculates akurasi validasi\n",
        "                acc = (output.argmax(dim=1) == val_label).sum().item()\n",
        "                total_acc_val += acc\n",
        "\n",
        "        # Displays results per epoch\n",
        "        print(\n",
        "            f'Epochs: {epoch_num + 1} | Train Loss: {total_loss_train / len(train_data): .3f} \\\n",
        "            | Train Accuracy: {total_acc_train / len(train_data): .3f} \\\n",
        "            | Val Loss: {total_loss_val / len(val_data): .3f} \\\n",
        "            | Val Accuracy: {total_acc_val / len(val_data): .3f}')\n",
        "\n",
        "\n",
        "# run the training process\n",
        "train(model, df_train, df_val, LR, EPOCHS)\n"
      ]
    },
    {
      "cell_type": "markdown",
      "metadata": {
        "id": "RYMrxMZJkh-9"
      },
      "source": [
        "#### **Evaluasi Model**"
      ]
    },
    {
      "cell_type": "code",
      "execution_count": null,
      "metadata": {
        "id": "odL5fkIjPHmo"
      },
      "outputs": [],
      "source": [
        "import torch\n",
        "import torch.nn as nn\n",
        "import torch.utils.data\n",
        "from transformers import AutoTokenizer\n",
        "from sklearn.metrics import accuracy_score, classification_report"
      ]
    },
    {
      "cell_type": "code",
      "execution_count": null,
      "metadata": {
        "id": "fz30AxiEWBgg"
      },
      "outputs": [],
      "source": [
        "import os\n",
        "os.environ['CUDA_LAUNCH_BLOCKING'] = '1'"
      ]
    },
    {
      "cell_type": "code",
      "execution_count": null,
      "metadata": {
        "colab": {
          "base_uri": "https://localhost:8080/"
        },
        "id": "J8gce2mKVXgY",
        "outputId": "eba7a335-9d96-4481-ecdc-9e3da1653e08"
      },
      "outputs": [
        {
          "name": "stdout",
          "output_type": "stream",
          "text": [
            "Akurasi Pengujian:  0.833\n"
          ]
        }
      ],
      "source": [
        "def evaluate(model, test_data):\n",
        "\n",
        "    test = Dataset(test_data)\n",
        "\n",
        "    test_dataloader = torch.utils.data.DataLoader(test, batch_size=BATCH_SIZE, collate_fn=collate_fn)\n",
        "\n",
        "    # Initialize CrossEntropyLoss before device assignment\n",
        "    criterion = nn.CrossEntropyLoss()\n",
        "\n",
        "    device = torch.device(\"cuda\")\n",
        "\n",
        "    # Move the model and the loss function to the GPU\n",
        "    model = model.to(device)\n",
        "    criterion = criterion.to(device)\n",
        "\n",
        "    total_acc_test = 0\n",
        "    with torch.no_grad():\n",
        "\n",
        "        for test_input, test_label in test_dataloader:\n",
        "            # 1. Clamp value:\n",
        "            test_label = torch.clamp(test_label, 0, 1)\n",
        "\n",
        "            # 2. Konversi Tipe Data dan Pindahkan ke Device:\n",
        "            test_label = test_label.type(torch.long).to(device)\n",
        "            mask = test_input['attention_mask'].to(device)\n",
        "            input_id = test_input['input_ids'].squeeze(1).to(device)\n",
        "\n",
        "            output = model(input_id, mask)\n",
        "\n",
        "            acc = (output.argmax(dim=1) == test_label).sum().item()\n",
        "            total_acc_test += acc\n",
        "\n",
        "    print(f'Akurasi Pengujian: {total_acc_test / len(test_data): .3f}')\n",
        "\n",
        "evaluate(model, df_test)"
      ]
    },
    {
      "cell_type": "code",
      "execution_count": null,
      "metadata": {
        "colab": {
          "base_uri": "https://localhost:8080/"
        },
        "id": "FETqOJVv5N2t",
        "outputId": "c99cb826-64cb-406d-cb82-4bf4b4ad5a6b"
      },
      "outputs": [
        {
          "name": "stdout",
          "output_type": "stream",
          "text": [
            "              precision    recall  f1-score   support\n",
            "\n",
            "           0       0.85      0.81      0.83      7991\n",
            "           1       0.82      0.86      0.84      8009\n",
            "\n",
            "    accuracy                           0.83     16000\n",
            "   macro avg       0.83      0.83      0.83     16000\n",
            "weighted avg       0.83      0.83      0.83     16000\n",
            "\n"
          ]
        }
      ],
      "source": [
        "from sklearn.metrics import classification_report\n",
        "\n",
        "def evaluate_with_report(model, test_data):\n",
        "    test = Dataset(test_data)\n",
        "    test_dataloader = torch.utils.data.DataLoader(test, batch_size=BATCH_SIZE, collate_fn=collate_fn)\n",
        "\n",
        "    device = torch.device(\"cuda\")\n",
        "    model = model.to(device)\n",
        "\n",
        "    true_labels = []\n",
        "    predicted_labels = []\n",
        "    with torch.no_grad():\n",
        "        for test_input, test_label in test_dataloader:\n",
        "            test_label = torch.clamp(test_label, 0, 1).type(torch.long).to(device)\n",
        "            mask = test_input['attention_mask'].to(device)\n",
        "            input_id = test_input['input_ids'].squeeze(1).to(device)\n",
        "\n",
        "            output = model(input_id, mask)\n",
        "            predicted = output.argmax(dim=1)\n",
        "\n",
        "            true_labels.extend(test_label.cpu().numpy())\n",
        "            predicted_labels.extend(predicted.cpu().numpy())\n",
        "    print(classification_report(true_labels, predicted_labels))\n",
        "\n",
        "evaluate_with_report(model, df_test)"
      ]
    },
    {
      "cell_type": "markdown",
      "source": [
        "**Model Performance:**\n",
        "\n",
        "The model has an accuracy of 83%, which shows the overall performance of the model predictions on both labels.\n",
        "The performance of precision, recall, and F1-Score is balanced between label 0 and label 1, which is normal because the dataset is balanced (50%-50%). **This is why we pay close attention to our dataset by doing Dataset Exploration**. We don't just do EDA as a formality.\n",
        "\n",
        "\n",
        "**Comparison of Label 0 vs Label 1:**\n",
        "The model is more accurate in detecting label 0 (precision 0.85 vs 0.82).\n",
        "The model is more sensitive in detecting label 1 (recall 0.86 vs 0.81).\n",
        "\n",
        "**Conclusion:**\n",
        "overall, the performance of this model is quite good (83%)."
      ],
      "metadata": {
        "id": "LMv_jH5pXVHp"
      }
    },
    {
      "cell_type": "code",
      "execution_count": null,
      "metadata": {
        "colab": {
          "base_uri": "https://localhost:8080/",
          "height": 564
        },
        "id": "6HYTEKy4kZPM",
        "outputId": "e19c99ec-cc22-4ef6-f42a-eceadf0a926c"
      },
      "outputs": [
        {
          "data": {
            "image/png": "[encoded data removed]",
            "text/plain": [
              "<Figure size 800x600 with 2 Axes>"
            ]
          },
          "metadata": {},
          "output_type": "display_data"
        }
      ],
      "source": [
        "from sklearn.metrics import confusion_matrix\n",
        "import seaborn as sns\n",
        "import matplotlib.pyplot as plt\n",
        "\n",
        "def evaluate_with_confusion_matrix(model, test_data):\n",
        "    test = Dataset(test_data)\n",
        "    test_dataloader = torch.utils.data.DataLoader(test, batch_size=BATCH_SIZE, collate_fn=collate_fn)\n",
        "\n",
        "    device = torch.device(\"cuda\")\n",
        "    model = model.to(device)\n",
        "\n",
        "    true_labels = []\n",
        "    predicted_labels = []\n",
        "    with torch.no_grad():\n",
        "        for test_input, test_label in test_dataloader:\n",
        "            test_label = torch.clamp(test_label, 0, 1).type(torch.long).to(device)\n",
        "            mask = test_input['attention_mask'].to(device)\n",
        "            input_id = test_input['input_ids'].squeeze(1).to(device)\n",
        "\n",
        "            output = model(input_id, mask)\n",
        "            predicted = output.argmax(dim=1)\n",
        "\n",
        "            true_labels.extend(test_label.cpu().numpy())\n",
        "            predicted_labels.extend(predicted.cpu().numpy())\n",
        "\n",
        "    cm = confusion_matrix(true_labels, predicted_labels)\n",
        "    plt.figure(figsize=(8, 6))\n",
        "    sns.heatmap(cm, annot=True, fmt=\"d\", cmap=\"Blues\",\n",
        "                xticklabels=[\"Negative\", \"Positive\"],\n",
        "                yticklabels=[\"Negative\", \"Positive\"])\n",
        "    plt.xlabel(\"Predicted Labels\")\n",
        "    plt.ylabel(\"True Labels\")\n",
        "    plt.title(\"Confusion Matrix\")\n",
        "    plt.show()\n",
        "\n",
        "evaluate_with_confusion_matrix(model, df_test)"
      ]
    },
    {
      "cell_type": "markdown",
      "source": [
        "- **True Negative** (6471): Number of Negative data correctly predicted as Negative.\n",
        "- **False Positive** (1520): The number of Negative data that was incorrectly predicted as Positive.\n",
        "- **False Negative** (1143): The number of Positive data that were incorrectly predicted as Negative.\n",
        "-**True Positive** (6866): The number of Positive data that were correctly predicted as Positive.\n",
        "\n",
        "From this confusion matrix, we can see that **the model is more accurate in detecting label 0 (Negative) than label 1 (Positive)**, which is in accordance with the precision results in the previous classification report:\n",
        "\n",
        "**Precision label 0**: 0.85 → This means, of all Negative predictions, 85% are correct.\n",
        "**Precision label 1**: 0.82 → Of all Positive predictions, 82% were correct.\n",
        "This is supported by detailed numbers in the confusion matrix:\n",
        "\n",
        "For label 0 (Negative):\n",
        "\n",
        "6471 samples were correctly classified as Negative (True Negative).\n",
        "Only 1520 samples were incorrectly classified as Positive (False Positive).\n",
        "For label 1 (Positive):\n",
        "\n",
        "6866 samples were correctly classified as Positive (True Positive).\n",
        "However, 1143 samples were incorrectly classified as Negative (False Negative)."
      ],
      "metadata": {
        "id": "JWsA6B-eYFFx"
      }
    },
    {
      "cell_type": "markdown",
      "metadata": {
        "id": "nBJ9PzKK7ZvO"
      },
      "source": [
        "#### Import model as pickle"
      ]
    },
    {
      "cell_type": "code",
      "execution_count": null,
      "metadata": {
        "id": "NnGI46DC7c20"
      },
      "outputs": [],
      "source": [
        "import pickle\n",
        "\n",
        "# Save the model\n",
        "with open('model_BERT.pkl', 'wb') as f:\n",
        "    pickle.dump(model, f)"
      ]
    },
    {
      "cell_type": "markdown",
      "source": [
        "I created pickle so that I don't need to train again, the next time I want to use this BERT model"
      ],
      "metadata": {
        "id": "0uwEpNooZGQK"
      }
    },
    {
      "cell_type": "markdown",
      "metadata": {
        "id": "iSBRMn63CAXg"
      },
      "source": [
        "#### Testing"
      ]
    },
    {
      "cell_type": "code",
      "execution_count": null,
      "metadata": {
        "colab": {
          "base_uri": "https://localhost:8080/"
        },
        "id": "wO_PVxlc7lpe",
        "outputId": "de2e49b3-f166-4106-9082-513049250b70"
      },
      "outputs": [
        {
          "name": "stdout",
          "output_type": "stream",
          "text": [
            "Text: This is a great product!\n",
            "Predicted Sentiment: Positive\n",
            "--------------------------------------------------------------------------------\n",
            "Text: I'm really great disappointed with this prdouct.\n",
            "Predicted Sentiment: Negative\n",
            "--------------------------------------------------------------------------------\n",
            "Text: The service was amazing; I’m so satisfied and will definitely come back.\n",
            "Predicted Sentiment: Positive\n",
            "--------------------------------------------------------------------------------\n",
            "Text: The ticket prices are amazing—amazingly expensive.\n",
            "Predicted Sentiment: Negative\n",
            "--------------------------------------------------------------------------------\n"
          ]
        }
      ],
      "source": [
        "# Test some new text to the model\n",
        "# Load the pickle model earlier\n",
        "with open('model_BERT.pkl', 'rb') as f:\n",
        "    model = pickle.load(f)\n",
        "\n",
        "# Function for predicting new sentences\n",
        "def predict_sentiment(text):\n",
        "    inputs = tokenizer(text, padding=True, truncation=True, return_tensors=\"pt\")\n",
        "    device = torch.device(\"cuda\" if torch.cuda.is_available() else \"cpu\")\n",
        "    model.to(device)\n",
        "\n",
        "    # Gets input_ids and attention_mask from the input dictionary\n",
        "    input_ids = inputs['input_ids'].to(device)\n",
        "    attention_mask = inputs['attention_mask'].to(device)\n",
        "\n",
        "    with torch.no_grad():\n",
        "        # Provides input_ids and Attention_mask as separate arguments\n",
        "        outputs = model(input_ids, attention_mask)\n",
        "    predicted_class = torch.argmax(outputs, dim=1).item()  # Access the output directly\n",
        "    return predicted_class\n",
        "\n",
        "# example:\n",
        "new_texts = [\n",
        "    \"This is a great product!\",\n",
        "    \"I'm really great disappointed with this prdouct.\",\n",
        "    \"The service was amazing; I’m so satisfied and will definitely come back.\",\n",
        "    \"The ticket prices are amazing—amazingly expensive.\"\n",
        "]\n",
        "\n",
        "for text in new_texts:\n",
        "    sentiment = predict_sentiment(text)\n",
        "    print(f\"Text: {text}\")\n",
        "    print(f\"Predicted Sentiment: {'Positive' if sentiment == 1 else 'Negative'}\")\n",
        "    print(\"-\" * 80)"
      ]
    },
    {
      "cell_type": "markdown",
      "source": [
        "4th text : \"Text: The ticket prices are amazing—amazingly expensive.\"\n",
        "\n",
        "In fact, I deliberately made it that way, because it is quite tricky/trapping where the word amazing-amazingly has a connotation that seems \"positive\" but because I added the word \"expensive\" in this context it should be \"negative\". And the BERT model is able to learn the context in the statement\n",
        "\n",
        "\n",
        "Later I will also compare the same text as this with the BoW model which prioritizes frequency (not contextual)"
      ],
      "metadata": {
        "id": "4-4Hfu_HZSTf"
      }
    },
    {
      "cell_type": "markdown",
      "metadata": {
        "id": "sVYFE7DL6rvk"
      },
      "source": [
        "## **Compare dengan model tradisional**"
      ]
    },
    {
      "cell_type": "code",
      "execution_count": null,
      "metadata": {
        "colab": {
          "base_uri": "https://localhost:8080/",
          "height": 206
        },
        "id": "hh3WLBfv6x_T",
        "outputId": "814a7f8f-01fa-40b1-ddac-c1b3ef7d198c"
      },
      "outputs": [
        {
          "data": {
            "text/html": [
              "<div>\n",
              "<style scoped>\n",
              "    .dataframe tbody tr th:only-of-type {\n",
              "        vertical-align: middle;\n",
              "    }\n",
              "\n",
              "    .dataframe tbody tr th {\n",
              "        vertical-align: top;\n",
              "    }\n",
              "\n",
              "    .dataframe thead th {\n",
              "        text-align: right;\n",
              "    }\n",
              "</style>\n",
              "<table border=\"1\" class=\"dataframe\">\n",
              "  <thead>\n",
              "    <tr style=\"text-align: right;\">\n",
              "      <th></th>\n",
              "      <th>target</th>\n",
              "      <th>text</th>\n",
              "    </tr>\n",
              "  </thead>\n",
              "  <tbody>\n",
              "    <tr>\n",
              "      <th>668431</th>\n",
              "      <td>0</td>\n",
              "      <td>Wow TWitter has serious people who need prayer...</td>\n",
              "    </tr>\n",
              "    <tr>\n",
              "      <th>971539</th>\n",
              "      <td>1</td>\n",
              "      <td>@Rick_Bayless  Beautiful, bet you are going to...</td>\n",
              "    </tr>\n",
              "    <tr>\n",
              "      <th>1560003</th>\n",
              "      <td>1</td>\n",
              "      <td>@ihuntmidgets  Thanks!</td>\n",
              "    </tr>\n",
              "    <tr>\n",
              "      <th>1085642</th>\n",
              "      <td>1</td>\n",
              "      <td>Thanks for the support, everyone. I feel bette...</td>\n",
              "    </tr>\n",
              "    <tr>\n",
              "      <th>1095582</th>\n",
              "      <td>1</td>\n",
              "      <td>@angiedarintip nah we should spam his Twitter ...</td>\n",
              "    </tr>\n",
              "  </tbody>\n",
              "</table>\n",
              "</div>"
            ],
            "text/plain": [
              "         target                                               text\n",
              "668431        0  Wow TWitter has serious people who need prayer...\n",
              "971539        1  @Rick_Bayless  Beautiful, bet you are going to...\n",
              "1560003       1                             @ihuntmidgets  Thanks!\n",
              "1085642       1  Thanks for the support, everyone. I feel bette...\n",
              "1095582       1  @angiedarintip nah we should spam his Twitter ..."
            ]
          },
          "execution_count": 11,
          "metadata": {},
          "output_type": "execute_result"
        }
      ],
      "source": [
        "df_2 = reduced_df.drop(columns=['text_length'])\n",
        "\n",
        "df_2.head()"
      ]
    },
    {
      "cell_type": "code",
      "execution_count": null,
      "metadata": {
        "colab": {
          "base_uri": "https://localhost:8080/"
        },
        "id": "AuKFxdut6-nk",
        "outputId": "761cb36f-1167-49fa-e45a-420eba3de9ee"
      },
      "outputs": [
        {
          "data": {
            "text/plain": [
              "(160000, 2)"
            ]
          },
          "execution_count": 12,
          "metadata": {},
          "output_type": "execute_result"
        }
      ],
      "source": [
        "df_2.shape"
      ]
    },
    {
      "cell_type": "markdown",
      "metadata": {
        "id": "mzwfbJVXDKWL"
      },
      "source": [
        "Just assume that i use a context independent model with BoW with SVM machine learning for the classification task"
      ]
    },
    {
      "cell_type": "markdown",
      "metadata": {
        "id": "d7E4vUKRGjMT"
      },
      "source": [
        "#### **Preprocessing**"
      ]
    },
    {
      "cell_type": "code",
      "execution_count": null,
      "metadata": {
        "id": "qyNZCarwKrOh",
        "outputId": "9433c90d-7be6-499c-93d1-7198e1c57f78"
      },
      "outputs": [
        {
          "name": "stdout",
          "output_type": "stream",
          "text": [
            "Collecting nltkNote: you may need to restart the kernel to use updated packages.\n",
            "\n",
            "  Downloading nltk-3.9.1-py3-none-any.whl.metadata (2.9 kB)\n",
            "Collecting click (from nltk)\n",
            "  Using cached click-8.1.7-py3-none-any.whl.metadata (3.0 kB)\n",
            "Requirement already satisfied: joblib in c:\\users\\lenovo\\appdata\\local\\programs\\python\\python311\\lib\\site-packages (from nltk) (1.4.2)\n",
            "Collecting regex>=2021.8.3 (from nltk)\n",
            "  Downloading regex-2024.11.6-cp311-cp311-win_amd64.whl.metadata (41 kB)\n",
            "Requirement already satisfied: tqdm in c:\\users\\lenovo\\appdata\\local\\programs\\python\\python311\\lib\\site-packages (from nltk) (4.67.1)\n",
            "Requirement already satisfied: colorama in c:\\users\\lenovo\\appdata\\local\\programs\\python\\python311\\lib\\site-packages (from click->nltk) (0.4.6)\n",
            "Downloading nltk-3.9.1-py3-none-any.whl (1.5 MB)\n",
            "   ---------------------------------------- 0.0/1.5 MB ? eta -:--:--\n",
            "   ------------- -------------------------- 0.5/1.5 MB 2.8 MB/s eta 0:00:01\n",
            "   ---------------------------------------- 1.5/1.5 MB 3.6 MB/s eta 0:00:00\n",
            "Downloading regex-2024.11.6-cp311-cp311-win_amd64.whl (274 kB)\n",
            "Using cached click-8.1.7-py3-none-any.whl (97 kB)\n",
            "Installing collected packages: regex, click, nltk\n",
            "Successfully installed click-8.1.7 nltk-3.9.1 regex-2024.11.6\n"
          ]
        }
      ],
      "source": [
        "pip install nltk"
      ]
    },
    {
      "cell_type": "markdown",
      "source": [
        "**I have carried out the Dataset Exploration process at the beginning **"
      ],
      "metadata": {
        "id": "mLMWCHJnZ9GI"
      }
    },
    {
      "cell_type": "code",
      "execution_count": null,
      "metadata": {
        "colab": {
          "base_uri": "https://localhost:8080/"
        },
        "id": "2cdQZW0u7TQ3",
        "outputId": "614244a4-9485-41ca-d3ec-0218cd0fcfdb"
      },
      "outputs": [
        {
          "name": "stderr",
          "output_type": "stream",
          "text": [
            "[nltk_data] Downloading package wordnet to\n",
            "[nltk_data]     C:\\Users\\LENOVO\\AppData\\Roaming\\nltk_data...\n",
            "[nltk_data] Downloading package stopwords to\n",
            "[nltk_data]     C:\\Users\\LENOVO\\AppData\\Roaming\\nltk_data...\n",
            "[nltk_data]   Unzipping corpora\\stopwords.zip.\n"
          ]
        }
      ],
      "source": [
        "import nltk\n",
        "nltk.download('wordnet') # untuk kosakata bahasa Inggris\n",
        "nltk.download('stopwords')\n",
        "from nltk.corpus import stopwords\n",
        "from nltk.stem import WordNetLemmatizer\n",
        "import re"
      ]
    },
    {
      "cell_type": "code",
      "execution_count": null,
      "metadata": {
        "id": "HZizdgUGHJdZ"
      },
      "outputs": [],
      "source": [
        "def preprocess_text(text):\n",
        "    text = re.sub(r'http\\S+', '', text) # remove URLs\n",
        "    text = re.sub(r'\\W', ' ', text)  # remove symbol / special character\n",
        "    text = re.sub(r'\\s+',' ',text) # remove double white space\n",
        "    text = text.lower()  # change all text into lowercase (Case Folding)\n",
        "    text = text.split()\n",
        "    lemmatizer = WordNetLemmatizer()\n",
        "    text = [lemmatizer.lemmatize(word) for word in text if word not in stopwords.words('english')]\n",
        "    return ' '.join(text)\n",
        "\n",
        "df_2['cleaned_text'] = df_2['text'].apply(preprocess_text)"
      ]
    },
    {
      "cell_type": "markdown",
      "metadata": {
        "id": "irP9RQ5vHs4E"
      },
      "source": [
        "Explanation:\n",
        "\n",
        "After exploring the dataset, I found out that the text data was in **English** so the library tool I used was in English.  \n",
        "\n",
        "1. Tokenization:\n",
        "Splitting text into individual words or tokens. For example \"Text mining\" becomes \"text\" and \"mining\"\n",
        "\n",
        "2. Removal of Stopwords: Removing words that are common and do not provide much information. For example \"and\", \"or\", \"then\"\n",
        "\n",
        "3. Deleting double white space: For example \"rendra‎ ‎ dwi\" becomes \"rendra dwi\", then I also delete symbols and links if they are in the text\n",
        "\n",
        "3. Lemmatization is a concept like stemming which changes words into their basic form.\n",
        "For example: \"teaching\" becomes \"teach\".\n",
        "\n",
        "But here I don't use stemming, but rather **lemitization**, because it pays more attention to the morphological and grammatical context, where the results will be more precise than stemming."
      ]
    },
    {
      "cell_type": "markdown",
      "metadata": {
        "id": "ayM3j9akH0x-"
      },
      "source": [
        "**Splitting Dataset**"
      ]
    },
    {
      "cell_type": "code",
      "execution_count": null,
      "metadata": {
        "id": "XLEVmRtTHtVv"
      },
      "outputs": [],
      "source": [
        "from sklearn.model_selection import train_test_split\n",
        "\n",
        "X = df_2['cleaned_text'] # text that has been processed\n",
        "y = df_2['target']  # targets that I have identified earlier have 2 types of labels\n",
        "X_train, X_test, y_train, y_test = train_test_split(X, y, test_size=0.2, random_state=42) #traininng 80% dan 20% data buat testing"
      ]
    },
    {
      "cell_type": "markdown",
      "metadata": {
        "id": "mXPLqA62JsG-"
      },
      "source": [
        "**Word embedding**"
      ]
    },
    {
      "cell_type": "code",
      "execution_count": null,
      "metadata": {
        "id": "KJJ5cJ4XJjZS"
      },
      "outputs": [],
      "source": [
        "from sklearn.feature_extraction.text import TfidfVectorizer\n",
        "\n",
        "# Metode TF-IDF\n",
        "tfidf_vectorizer = TfidfVectorizer() # object to carry out TF-IDF vectorization\n",
        "X_train_tfidf = tfidf_vectorizer.fit_transform(X_train) #apply TF-IDF for training data\n",
        "X_test_tfidf = tfidf_vectorizer.transform(X_test) #apply TF-IDF for testing data"
      ]
    },
    {
      "cell_type": "markdown",
      "source": [
        "\n",
        "\n",
        "```\n",
        "# !\n",
        "```\n",
        "\n",
        "This bag of words simply counts the frequency of occurrence of words in a corpus/set of data."
      ],
      "metadata": {
        "id": "-5bwBpcIaO_p"
      }
    },
    {
      "cell_type": "code",
      "execution_count": null,
      "metadata": {
        "id": "OjpKMcISJuCI",
        "outputId": "7b88614e-d9f8-428d-f24f-7c148be71cd6"
      },
      "outputs": [
        {
          "data": {
            "text/html": [
              "<style>#sk-container-id-1 {\n",
              "  /* Definition of color scheme common for light and dark mode */\n",
              "  --sklearn-color-text: #000;\n",
              "  --sklearn-color-text-muted: #666;\n",
              "  --sklearn-color-line: gray;\n",
              "  /* Definition of color scheme for unfitted estimators */\n",
              "  --sklearn-color-unfitted-level-0: #fff5e6;\n",
              "  --sklearn-color-unfitted-level-1: #f6e4d2;\n",
              "  --sklearn-color-unfitted-level-2: #ffe0b3;\n",
              "  --sklearn-color-unfitted-level-3: chocolate;\n",
              "  /* Definition of color scheme for fitted estimators */\n",
              "  --sklearn-color-fitted-level-0: #f0f8ff;\n",
              "  --sklearn-color-fitted-level-1: #d4ebff;\n",
              "  --sklearn-color-fitted-level-2: #b3dbfd;\n",
              "  --sklearn-color-fitted-level-3: cornflowerblue;\n",
              "\n",
              "  /* Specific color for light theme */\n",
              "  --sklearn-color-text-on-default-background: var(--sg-text-color, var(--theme-code-foreground, var(--jp-content-font-color1, black)));\n",
              "  --sklearn-color-background: var(--sg-background-color, var(--theme-background, var(--jp-layout-color0, white)));\n",
              "  --sklearn-color-border-box: var(--sg-text-color, var(--theme-code-foreground, var(--jp-content-font-color1, black)));\n",
              "  --sklearn-color-icon: #696969;\n",
              "\n",
              "  @media (prefers-color-scheme: dark) {\n",
              "    /* Redefinition of color scheme for dark theme */\n",
              "    --sklearn-color-text-on-default-background: var(--sg-text-color, var(--theme-code-foreground, var(--jp-content-font-color1, white)));\n",
              "    --sklearn-color-background: var(--sg-background-color, var(--theme-background, var(--jp-layout-color0, #111)));\n",
              "    --sklearn-color-border-box: var(--sg-text-color, var(--theme-code-foreground, var(--jp-content-font-color1, white)));\n",
              "    --sklearn-color-icon: #878787;\n",
              "  }\n",
              "}\n",
              "\n",
              "#sk-container-id-1 {\n",
              "  color: var(--sklearn-color-text);\n",
              "}\n",
              "\n",
              "#sk-container-id-1 pre {\n",
              "  padding: 0;\n",
              "}\n",
              "\n",
              "#sk-container-id-1 input.sk-hidden--visually {\n",
              "  border: 0;\n",
              "  clip: rect(1px 1px 1px 1px);\n",
              "  clip: rect(1px, 1px, 1px, 1px);\n",
              "  height: 1px;\n",
              "  margin: -1px;\n",
              "  overflow: hidden;\n",
              "  padding: 0;\n",
              "  position: absolute;\n",
              "  width: 1px;\n",
              "}\n",
              "\n",
              "#sk-container-id-1 div.sk-dashed-wrapped {\n",
              "  border: 1px dashed var(--sklearn-color-line);\n",
              "  margin: 0 0.4em 0.5em 0.4em;\n",
              "  box-sizing: border-box;\n",
              "  padding-bottom: 0.4em;\n",
              "  background-color: var(--sklearn-color-background);\n",
              "}\n",
              "\n",
              "#sk-container-id-1 div.sk-container {\n",
              "  /* jupyter's `normalize.less` sets `[hidden] { display: none; }`\n",
              "     but bootstrap.min.css set `[hidden] { display: none !important; }`\n",
              "     so we also need the `!important` here to be able to override the\n",
              "     default hidden behavior on the sphinx rendered scikit-learn.org.\n",
              "     See: https://github.com/scikit-learn/scikit-learn/issues/21755 */\n",
              "  display: inline-block !important;\n",
              "  position: relative;\n",
              "}\n",
              "\n",
              "#sk-container-id-1 div.sk-text-repr-fallback {\n",
              "  display: none;\n",
              "}\n",
              "\n",
              "div.sk-parallel-item,\n",
              "div.sk-serial,\n",
              "div.sk-item {\n",
              "  /* draw centered vertical line to link estimators */\n",
              "  background-image: linear-gradient(var(--sklearn-color-text-on-default-background), var(--sklearn-color-text-on-default-background));\n",
              "  background-size: 2px 100%;\n",
              "  background-repeat: no-repeat;\n",
              "  background-position: center center;\n",
              "}\n",
              "\n",
              "/* Parallel-specific style estimator block */\n",
              "\n",
              "#sk-container-id-1 div.sk-parallel-item::after {\n",
              "  content: \"\";\n",
              "  width: 100%;\n",
              "  border-bottom: 2px solid var(--sklearn-color-text-on-default-background);\n",
              "  flex-grow: 1;\n",
              "}\n",
              "\n",
              "#sk-container-id-1 div.sk-parallel {\n",
              "  display: flex;\n",
              "  align-items: stretch;\n",
              "  justify-content: center;\n",
              "  background-color: var(--sklearn-color-background);\n",
              "  position: relative;\n",
              "}\n",
              "\n",
              "#sk-container-id-1 div.sk-parallel-item {\n",
              "  display: flex;\n",
              "  flex-direction: column;\n",
              "}\n",
              "\n",
              "#sk-container-id-1 div.sk-parallel-item:first-child::after {\n",
              "  align-self: flex-end;\n",
              "  width: 50%;\n",
              "}\n",
              "\n",
              "#sk-container-id-1 div.sk-parallel-item:last-child::after {\n",
              "  align-self: flex-start;\n",
              "  width: 50%;\n",
              "}\n",
              "\n",
              "#sk-container-id-1 div.sk-parallel-item:only-child::after {\n",
              "  width: 0;\n",
              "}\n",
              "\n",
              "/* Serial-specific style estimator block */\n",
              "\n",
              "#sk-container-id-1 div.sk-serial {\n",
              "  display: flex;\n",
              "  flex-direction: column;\n",
              "  align-items: center;\n",
              "  background-color: var(--sklearn-color-background);\n",
              "  padding-right: 1em;\n",
              "  padding-left: 1em;\n",
              "}\n",
              "\n",
              "\n",
              "/* Toggleable style: style used for estimator/Pipeline/ColumnTransformer box that is\n",
              "clickable and can be expanded/collapsed.\n",
              "- Pipeline and ColumnTransformer use this feature and define the default style\n",
              "- Estimators will overwrite some part of the style using the `sk-estimator` class\n",
              "*/\n",
              "\n",
              "/* Pipeline and ColumnTransformer style (default) */\n",
              "\n",
              "#sk-container-id-1 div.sk-toggleable {\n",
              "  /* Default theme specific background. It is overwritten whether we have a\n",
              "  specific estimator or a Pipeline/ColumnTransformer */\n",
              "  background-color: var(--sklearn-color-background);\n",
              "}\n",
              "\n",
              "/* Toggleable label */\n",
              "#sk-container-id-1 label.sk-toggleable__label {\n",
              "  cursor: pointer;\n",
              "  display: flex;\n",
              "  width: 100%;\n",
              "  margin-bottom: 0;\n",
              "  padding: 0.5em;\n",
              "  box-sizing: border-box;\n",
              "  text-align: center;\n",
              "  align-items: start;\n",
              "  justify-content: space-between;\n",
              "  gap: 0.5em;\n",
              "}\n",
              "\n",
              "#sk-container-id-1 label.sk-toggleable__label .caption {\n",
              "  font-size: 0.6rem;\n",
              "  font-weight: lighter;\n",
              "  color: var(--sklearn-color-text-muted);\n",
              "}\n",
              "\n",
              "#sk-container-id-1 label.sk-toggleable__label-arrow:before {\n",
              "  /* Arrow on the left of the label */\n",
              "  content: \"▸\";\n",
              "  float: left;\n",
              "  margin-right: 0.25em;\n",
              "  color: var(--sklearn-color-icon);\n",
              "}\n",
              "\n",
              "#sk-container-id-1 label.sk-toggleable__label-arrow:hover:before {\n",
              "  color: var(--sklearn-color-text);\n",
              "}\n",
              "\n",
              "/* Toggleable content - dropdown */\n",
              "\n",
              "#sk-container-id-1 div.sk-toggleable__content {\n",
              "  max-height: 0;\n",
              "  max-width: 0;\n",
              "  overflow: hidden;\n",
              "  text-align: left;\n",
              "  /* unfitted */\n",
              "  background-color: var(--sklearn-color-unfitted-level-0);\n",
              "}\n",
              "\n",
              "#sk-container-id-1 div.sk-toggleable__content.fitted {\n",
              "  /* fitted */\n",
              "  background-color: var(--sklearn-color-fitted-level-0);\n",
              "}\n",
              "\n",
              "#sk-container-id-1 div.sk-toggleable__content pre {\n",
              "  margin: 0.2em;\n",
              "  border-radius: 0.25em;\n",
              "  color: var(--sklearn-color-text);\n",
              "  /* unfitted */\n",
              "  background-color: var(--sklearn-color-unfitted-level-0);\n",
              "}\n",
              "\n",
              "#sk-container-id-1 div.sk-toggleable__content.fitted pre {\n",
              "  /* unfitted */\n",
              "  background-color: var(--sklearn-color-fitted-level-0);\n",
              "}\n",
              "\n",
              "#sk-container-id-1 input.sk-toggleable__control:checked~div.sk-toggleable__content {\n",
              "  /* Expand drop-down */\n",
              "  max-height: 200px;\n",
              "  max-width: 100%;\n",
              "  overflow: auto;\n",
              "}\n",
              "\n",
              "#sk-container-id-1 input.sk-toggleable__control:checked~label.sk-toggleable__label-arrow:before {\n",
              "  content: \"▾\";\n",
              "}\n",
              "\n",
              "/* Pipeline/ColumnTransformer-specific style */\n",
              "\n",
              "#sk-container-id-1 div.sk-label input.sk-toggleable__control:checked~label.sk-toggleable__label {\n",
              "  color: var(--sklearn-color-text);\n",
              "  background-color: var(--sklearn-color-unfitted-level-2);\n",
              "}\n",
              "\n",
              "#sk-container-id-1 div.sk-label.fitted input.sk-toggleable__control:checked~label.sk-toggleable__label {\n",
              "  background-color: var(--sklearn-color-fitted-level-2);\n",
              "}\n",
              "\n",
              "/* Estimator-specific style */\n",
              "\n",
              "/* Colorize estimator box */\n",
              "#sk-container-id-1 div.sk-estimator input.sk-toggleable__control:checked~label.sk-toggleable__label {\n",
              "  /* unfitted */\n",
              "  background-color: var(--sklearn-color-unfitted-level-2);\n",
              "}\n",
              "\n",
              "#sk-container-id-1 div.sk-estimator.fitted input.sk-toggleable__control:checked~label.sk-toggleable__label {\n",
              "  /* fitted */\n",
              "  background-color: var(--sklearn-color-fitted-level-2);\n",
              "}\n",
              "\n",
              "#sk-container-id-1 div.sk-label label.sk-toggleable__label,\n",
              "#sk-container-id-1 div.sk-label label {\n",
              "  /* The background is the default theme color */\n",
              "  color: var(--sklearn-color-text-on-default-background);\n",
              "}\n",
              "\n",
              "/* On hover, darken the color of the background */\n",
              "#sk-container-id-1 div.sk-label:hover label.sk-toggleable__label {\n",
              "  color: var(--sklearn-color-text);\n",
              "  background-color: var(--sklearn-color-unfitted-level-2);\n",
              "}\n",
              "\n",
              "/* Label box, darken color on hover, fitted */\n",
              "#sk-container-id-1 div.sk-label.fitted:hover label.sk-toggleable__label.fitted {\n",
              "  color: var(--sklearn-color-text);\n",
              "  background-color: var(--sklearn-color-fitted-level-2);\n",
              "}\n",
              "\n",
              "/* Estimator label */\n",
              "\n",
              "#sk-container-id-1 div.sk-label label {\n",
              "  font-family: monospace;\n",
              "  font-weight: bold;\n",
              "  display: inline-block;\n",
              "  line-height: 1.2em;\n",
              "}\n",
              "\n",
              "#sk-container-id-1 div.sk-label-container {\n",
              "  text-align: center;\n",
              "}\n",
              "\n",
              "/* Estimator-specific */\n",
              "#sk-container-id-1 div.sk-estimator {\n",
              "  font-family: monospace;\n",
              "  border: 1px dotted var(--sklearn-color-border-box);\n",
              "  border-radius: 0.25em;\n",
              "  box-sizing: border-box;\n",
              "  margin-bottom: 0.5em;\n",
              "  /* unfitted */\n",
              "  background-color: var(--sklearn-color-unfitted-level-0);\n",
              "}\n",
              "\n",
              "#sk-container-id-1 div.sk-estimator.fitted {\n",
              "  /* fitted */\n",
              "  background-color: var(--sklearn-color-fitted-level-0);\n",
              "}\n",
              "\n",
              "/* on hover */\n",
              "#sk-container-id-1 div.sk-estimator:hover {\n",
              "  /* unfitted */\n",
              "  background-color: var(--sklearn-color-unfitted-level-2);\n",
              "}\n",
              "\n",
              "#sk-container-id-1 div.sk-estimator.fitted:hover {\n",
              "  /* fitted */\n",
              "  background-color: var(--sklearn-color-fitted-level-2);\n",
              "}\n",
              "\n",
              "/* Specification for estimator info (e.g. \"i\" and \"?\") */\n",
              "\n",
              "/* Common style for \"i\" and \"?\" */\n",
              "\n",
              ".sk-estimator-doc-link,\n",
              "a:link.sk-estimator-doc-link,\n",
              "a:visited.sk-estimator-doc-link {\n",
              "  float: right;\n",
              "  font-size: smaller;\n",
              "  line-height: 1em;\n",
              "  font-family: monospace;\n",
              "  background-color: var(--sklearn-color-background);\n",
              "  border-radius: 1em;\n",
              "  height: 1em;\n",
              "  width: 1em;\n",
              "  text-decoration: none !important;\n",
              "  margin-left: 0.5em;\n",
              "  text-align: center;\n",
              "  /* unfitted */\n",
              "  border: var(--sklearn-color-unfitted-level-1) 1pt solid;\n",
              "  color: var(--sklearn-color-unfitted-level-1);\n",
              "}\n",
              "\n",
              ".sk-estimator-doc-link.fitted,\n",
              "a:link.sk-estimator-doc-link.fitted,\n",
              "a:visited.sk-estimator-doc-link.fitted {\n",
              "  /* fitted */\n",
              "  border: var(--sklearn-color-fitted-level-1) 1pt solid;\n",
              "  color: var(--sklearn-color-fitted-level-1);\n",
              "}\n",
              "\n",
              "/* On hover */\n",
              "div.sk-estimator:hover .sk-estimator-doc-link:hover,\n",
              ".sk-estimator-doc-link:hover,\n",
              "div.sk-label-container:hover .sk-estimator-doc-link:hover,\n",
              ".sk-estimator-doc-link:hover {\n",
              "  /* unfitted */\n",
              "  background-color: var(--sklearn-color-unfitted-level-3);\n",
              "  color: var(--sklearn-color-background);\n",
              "  text-decoration: none;\n",
              "}\n",
              "\n",
              "div.sk-estimator.fitted:hover .sk-estimator-doc-link.fitted:hover,\n",
              ".sk-estimator-doc-link.fitted:hover,\n",
              "div.sk-label-container:hover .sk-estimator-doc-link.fitted:hover,\n",
              ".sk-estimator-doc-link.fitted:hover {\n",
              "  /* fitted */\n",
              "  background-color: var(--sklearn-color-fitted-level-3);\n",
              "  color: var(--sklearn-color-background);\n",
              "  text-decoration: none;\n",
              "}\n",
              "\n",
              "/* Span, style for the box shown on hovering the info icon */\n",
              ".sk-estimator-doc-link span {\n",
              "  display: none;\n",
              "  z-index: 9999;\n",
              "  position: relative;\n",
              "  font-weight: normal;\n",
              "  right: .2ex;\n",
              "  padding: .5ex;\n",
              "  margin: .5ex;\n",
              "  width: min-content;\n",
              "  min-width: 20ex;\n",
              "  max-width: 50ex;\n",
              "  color: var(--sklearn-color-text);\n",
              "  box-shadow: 2pt 2pt 4pt #999;\n",
              "  /* unfitted */\n",
              "  background: var(--sklearn-color-unfitted-level-0);\n",
              "  border: .5pt solid var(--sklearn-color-unfitted-level-3);\n",
              "}\n",
              "\n",
              ".sk-estimator-doc-link.fitted span {\n",
              "  /* fitted */\n",
              "  background: var(--sklearn-color-fitted-level-0);\n",
              "  border: var(--sklearn-color-fitted-level-3);\n",
              "}\n",
              "\n",
              ".sk-estimator-doc-link:hover span {\n",
              "  display: block;\n",
              "}\n",
              "\n",
              "/* \"?\"-specific style due to the `<a>` HTML tag */\n",
              "\n",
              "#sk-container-id-1 a.estimator_doc_link {\n",
              "  float: right;\n",
              "  font-size: 1rem;\n",
              "  line-height: 1em;\n",
              "  font-family: monospace;\n",
              "  background-color: var(--sklearn-color-background);\n",
              "  border-radius: 1rem;\n",
              "  height: 1rem;\n",
              "  width: 1rem;\n",
              "  text-decoration: none;\n",
              "  /* unfitted */\n",
              "  color: var(--sklearn-color-unfitted-level-1);\n",
              "  border: var(--sklearn-color-unfitted-level-1) 1pt solid;\n",
              "}\n",
              "\n",
              "#sk-container-id-1 a.estimator_doc_link.fitted {\n",
              "  /* fitted */\n",
              "  border: var(--sklearn-color-fitted-level-1) 1pt solid;\n",
              "  color: var(--sklearn-color-fitted-level-1);\n",
              "}\n",
              "\n",
              "/* On hover */\n",
              "#sk-container-id-1 a.estimator_doc_link:hover {\n",
              "  /* unfitted */\n",
              "  background-color: var(--sklearn-color-unfitted-level-3);\n",
              "  color: var(--sklearn-color-background);\n",
              "  text-decoration: none;\n",
              "}\n",
              "\n",
              "#sk-container-id-1 a.estimator_doc_link.fitted:hover {\n",
              "  /* fitted */\n",
              "  background-color: var(--sklearn-color-fitted-level-3);\n",
              "}\n",
              "</style><div id=\"sk-container-id-1\" class=\"sk-top-container\"><div class=\"sk-text-repr-fallback\"><pre>SVC(C=1, kernel=&#x27;linear&#x27;)</pre><b>In a Jupyter environment, please rerun this cell to show the HTML representation or trust the notebook. <br />On GitHub, the HTML representation is unable to render, please try loading this page with nbviewer.org.</b></div><div class=\"sk-container\" hidden><div class=\"sk-item\"><div class=\"sk-estimator fitted sk-toggleable\"><input class=\"sk-toggleable__control sk-hidden--visually\" id=\"sk-estimator-id-1\" type=\"checkbox\" checked><label for=\"sk-estimator-id-1\" class=\"sk-toggleable__label fitted sk-toggleable__label-arrow\"><div><div>SVC</div></div><div><a class=\"sk-estimator-doc-link fitted\" rel=\"noreferrer\" target=\"_blank\" href=\"https://scikit-learn.org/1.6/modules/generated/sklearn.svm.SVC.html\">?<span>Documentation for SVC</span></a><span class=\"sk-estimator-doc-link fitted\">i<span>Fitted</span></span></div></label><div class=\"sk-toggleable__content fitted\"><pre>SVC(C=1, kernel=&#x27;linear&#x27;)</pre></div> </div></div></div></div>"
            ],
            "text/plain": [
              "SVC(C=1, kernel='linear')"
            ]
          },
          "execution_count": 20,
          "metadata": {},
          "output_type": "execute_result"
        }
      ],
      "source": [
        "from sklearn.svm import SVC\n",
        "\n",
        "# SVM\n",
        "svm_params = {'C': 1, 'kernel': 'linear'}\n",
        "svm_classifier = SVC(**svm_params)\n",
        "# fitting model\n",
        "svm_classifier.fit(X_train_tfidf, y_train)"
      ]
    },
    {
      "cell_type": "code",
      "execution_count": null,
      "metadata": {
        "id": "KySNUyLeKC-i",
        "outputId": "7e5ebaad-4506-4752-fda7-aeaf0f04a980"
      },
      "outputs": [
        {
          "name": "stdout",
          "output_type": "stream",
          "text": [
            "              precision    recall  f1-score   support\n",
            "\n",
            "           0       0.75      0.77      0.76     15496\n",
            "           1       0.78      0.75      0.77     16504\n",
            "\n",
            "    accuracy                           0.76     32000\n",
            "   macro avg       0.76      0.76      0.76     32000\n",
            "weighted avg       0.76      0.76      0.76     32000\n",
            "\n"
          ]
        }
      ],
      "source": [
        "from sklearn.metrics import accuracy_score, classification_report, precision_score, recall_score, f1_score\n",
        "\n",
        "# SVM dengan TF-IDF\n",
        "y_pred_svm_tfidf = svm_classifier.predict(X_test_tfidf)\n",
        "print(classification_report(y_pred_svm_tfidf,y_test))"
      ]
    },
    {
      "cell_type": "markdown",
      "source": [
        "**Overall Accuracy:** 76% → The model correctly predicted 76% of the total 32000 samples.\n",
        "\n",
        "\n",
        "**Label Performance:**\n",
        "The model is slightly better at predicting label 1 (Positive) because its precision is higher (0.78 vs 0.75).\n",
        "However, the recall for label 0 (77%) is higher than the recall for label 1 (75%), meaning the model is better at capturing negative samples.\n",
        "\n",
        "\n",
        "**Conclusion**:\n",
        "The model shows balanced performance between the two classes with an overall accuracy of 76%. However, there is a slight difference in precision and recall between labels 0 and 1. The model tends to be more precise on label 1 but has higher recall on label 0."
      ],
      "metadata": {
        "id": "cY6BZkQQaf0W"
      }
    },
    {
      "cell_type": "code",
      "execution_count": null,
      "metadata": {
        "id": "03_avrVrTC8H",
        "outputId": "3065b956-c095-4cd9-a61b-d68b8115f6e8"
      },
      "outputs": [
        {
          "data": {
            "image/png": "[encoded data removed]",
            "text/plain": [
              "<Figure size 800x600 with 2 Axes>"
            ]
          },
          "metadata": {},
          "output_type": "display_data"
        }
      ],
      "source": [
        "cm = confusion_matrix(y_test, y_pred_svm_tfidf)\n",
        "plt.figure(figsize=(8, 6))\n",
        "sns.heatmap(cm, annot=True, fmt=\"d\", cmap=\"Reds\",\n",
        "            xticklabels=[\"Negative\", \"Positive\"],\n",
        "            yticklabels=[\"Negative\", \"Positive\"])\n",
        "plt.xlabel(\"Predicted Labels\")\n",
        "plt.ylabel(\"True Labels\")\n",
        "plt.title(\"Confusion Matrix for SVM with TF-IDF\")\n",
        "plt.show()"
      ]
    },
    {
      "cell_type": "markdown",
      "source": [
        "- **True Negative** (11973): Number of Negative samples correctly predicted as Negative.\n",
        "- **False Positive** (4048): The number of Negative samples that were incorrectly predicted as Positive.\n",
        "- **False Negative **(3523): Number of Positive samples that were incorrectly predicted as Negative.\n",
        "- **True Positive** (12456): The number of Positive samples that were correctly predicted as Positive.\n",
        "\n",
        "**Conclusion :**\n",
        "\n",
        "The model has quite good performance. Overall, the model tends to be better at predicting Positive labels than Negative labels, because the number of True Positives is higher than True Negatives."
      ],
      "metadata": {
        "id": "hl4A3YP_a-gX"
      }
    },
    {
      "cell_type": "code",
      "execution_count": null,
      "metadata": {
        "id": "IIxJIsWfKrOi"
      },
      "outputs": [],
      "source": [
        "# Save model as pickle\n",
        "with open('svm_model.pkl', 'wb') as file:\n",
        "    pickle.dump(svm_classifier, file)"
      ]
    },
    {
      "cell_type": "code",
      "execution_count": null,
      "metadata": {
        "id": "VqsjIouKKrOj",
        "outputId": "3f49a9dd-a220-4214-9938-645091af2125"
      },
      "outputs": [
        {
          "name": "stdout",
          "output_type": "stream",
          "text": [
            "Text: This is a great product!\n",
            "Predicted Sentiment (SVM): Positive\n",
            "--------------------------------------------------------------------------------\n",
            "Text: I'm really great disappointed with this prdouct.\n",
            "Predicted Sentiment (SVM): Negative\n",
            "--------------------------------------------------------------------------------\n",
            "Text: The service was amazing; I’m so satisfied and will definitely come back.\n",
            "Predicted Sentiment (SVM): Positive\n",
            "--------------------------------------------------------------------------------\n",
            "Text: The ticket prices are amazing—amazingly expensive.\n",
            "Predicted Sentiment (SVM): Positive\n",
            "--------------------------------------------------------------------------------\n"
          ]
        }
      ],
      "source": [
        "new_texts = [\n",
        "     \"This is a great product!\",\n",
        "     \"I'm really great disappointed with this prdouct.\",\n",
        "     \"The service was amazing; I’m so satisfied and will definitely come back.\",\n",
        "     \"The ticket prices are amazing—amazingly expensive.\"\n",
        "]\n",
        "\n",
        "def predict_sentiment_svm(text):\n",
        "    text = preprocess_text(text)\n",
        "    text_tfidf = tfidf_vectorizer.transform([text])\n",
        "    sentiment = svm_classifier.predict(text_tfidf)[0]\n",
        "    return sentiment\n",
        "\n",
        "for text in new_texts:\n",
        "    sentiment = predict_sentiment_svm(text)\n",
        "    print(f\"Text: {text}\")\n",
        "    print(f\"Predicted Sentiment (SVM): {'Positive' if sentiment == 1 else 'Negative'}\")\n",
        "    print(\"-\" * 80)"
      ]
    },
    {
      "cell_type": "markdown",
      "source": [
        "If we compare it with the sentiment prediction results from the BERT model, the fourth text of the prediction results is: \"Negative\". This shows that BERT is able to understand context more deeply, while BoW (Bag of Words) only considers the frequency of word occurrence without paying attention to the relationship between words. In this case, the presence of the word \"amazing\" causes BoW to predict sentiment as \"Positive\" because the word is often associated with positive sentiment. On the other hand, BERT can understand **the overall context of the text**, so that even though there is the word \"amazing\", BERT is still able to recognize that the text contains negative sentiment"
      ],
      "metadata": {
        "id": "KGP_PmqEVSqe"
      }
    }
  ],
  "metadata": {
    "accelerator": "GPU",
    "colab": {
      "gpuType": "L4",
      "provenance": [],
      "machine_shape": "hm"
    },
    "kernelspec": {
      "display_name": "Python 3",
      "name": "python3"
    },
    "language_info": {
      "codemirror_mode": {
        "name": "ipython",
        "version": 3
      },
      "file_extension": ".py",
      "mimetype": "text/x-python",
      "name": "python",
      "nbconvert_exporter": "python",
      "pygments_lexer": "ipython3",
      "version": "3.11.0"
    },
    "widgets": {
      "application/vnd.jupyter.widget-state+json": {
        "13661c19fda64fa8a68ba82da2786c1c": {
          "model_module": "@jupyter-widgets/base",
          "model_module_version": "1.2.0",
          "model_name": "LayoutModel",
          "state": {
            "_model_module": "@jupyter-widgets/base",
            "_model_module_version": "1.2.0",
            "_model_name": "LayoutModel",
            "_view_count": null,
            "_view_module": "@jupyter-widgets/base",
            "_view_module_version": "1.2.0",
            "_view_name": "LayoutView",
            "align_content": null,
            "align_items": null,
            "align_self": null,
            "border": null,
            "bottom": null,
            "display": null,
            "flex": null,
            "flex_flow": null,
            "grid_area": null,
            "grid_auto_columns": null,
            "grid_auto_flow": null,
            "grid_auto_rows": null,
            "grid_column": null,
            "grid_gap": null,
            "grid_row": null,
            "grid_template_areas": null,
            "grid_template_columns": null,
            "grid_template_rows": null,
            "height": null,
            "justify_content": null,
            "justify_items": null,
            "left": null,
            "margin": null,
            "max_height": null,
            "max_width": null,
            "min_height": null,
            "min_width": null,
            "object_fit": null,
            "object_position": null,
            "order": null,
            "overflow": null,
            "overflow_x": null,
            "overflow_y": null,
            "padding": null,
            "right": null,
            "top": null,
            "visibility": null,
            "width": null
          }
        },
        "13c52fb794004136b18b42acf0d30b1b": {
          "model_module": "@jupyter-widgets/controls",
          "model_module_version": "1.5.0",
          "model_name": "FloatProgressModel",
          "state": {
            "_dom_classes": [],
            "_model_module": "@jupyter-widgets/controls",
            "_model_module_version": "1.5.0",
            "_model_name": "FloatProgressModel",
            "_view_count": null,
            "_view_module": "@jupyter-widgets/controls",
            "_view_module_version": "1.5.0",
            "_view_name": "ProgressView",
            "bar_style": "success",
            "description": "",
            "description_tooltip": null,
            "layout": "IPY_MODEL_13661c19fda64fa8a68ba82da2786c1c",
            "max": 213450,
            "min": 0,
            "orientation": "horizontal",
            "style": "IPY_MODEL_6cb5eca80fbb4737a1d7feaa5bc99c10",
            "value": 213450
          }
        },
        "1956b063a87844b684c1046140e45ef7": {
          "model_module": "@jupyter-widgets/base",
          "model_module_version": "1.2.0",
          "model_name": "LayoutModel",
          "state": {
            "_model_module": "@jupyter-widgets/base",
            "_model_module_version": "1.2.0",
            "_model_name": "LayoutModel",
            "_view_count": null,
            "_view_module": "@jupyter-widgets/base",
            "_view_module_version": "1.2.0",
            "_view_name": "LayoutView",
            "align_content": null,
            "align_items": null,
            "align_self": null,
            "border": null,
            "bottom": null,
            "display": null,
            "flex": null,
            "flex_flow": null,
            "grid_area": null,
            "grid_auto_columns": null,
            "grid_auto_flow": null,
            "grid_auto_rows": null,
            "grid_column": null,
            "grid_gap": null,
            "grid_row": null,
            "grid_template_areas": null,
            "grid_template_columns": null,
            "grid_template_rows": null,
            "height": null,
            "justify_content": null,
            "justify_items": null,
            "left": null,
            "margin": null,
            "max_height": null,
            "max_width": null,
            "min_height": null,
            "min_width": null,
            "object_fit": null,
            "object_position": null,
            "order": null,
            "overflow": null,
            "overflow_x": null,
            "overflow_y": null,
            "padding": null,
            "right": null,
            "top": null,
            "visibility": null,
            "width": null
          }
        },
        "1ee43abecfaf4abd8c50e3cf483a674a": {
          "model_module": "@jupyter-widgets/base",
          "model_module_version": "1.2.0",
          "model_name": "LayoutModel",
          "state": {
            "_model_module": "@jupyter-widgets/base",
            "_model_module_version": "1.2.0",
            "_model_name": "LayoutModel",
            "_view_count": null,
            "_view_module": "@jupyter-widgets/base",
            "_view_module_version": "1.2.0",
            "_view_name": "LayoutView",
            "align_content": null,
            "align_items": null,
            "align_self": null,
            "border": null,
            "bottom": null,
            "display": null,
            "flex": null,
            "flex_flow": null,
            "grid_area": null,
            "grid_auto_columns": null,
            "grid_auto_flow": null,
            "grid_auto_rows": null,
            "grid_column": null,
            "grid_gap": null,
            "grid_row": null,
            "grid_template_areas": null,
            "grid_template_columns": null,
            "grid_template_rows": null,
            "height": null,
            "justify_content": null,
            "justify_items": null,
            "left": null,
            "margin": null,
            "max_height": null,
            "max_width": null,
            "min_height": null,
            "min_width": null,
            "object_fit": null,
            "object_position": null,
            "order": null,
            "overflow": null,
            "overflow_x": null,
            "overflow_y": null,
            "padding": null,
            "right": null,
            "top": null,
            "visibility": null,
            "width": null
          }
        },
        "226fd286194b495ea77d11dea0e1649c": {
          "model_module": "@jupyter-widgets/controls",
          "model_module_version": "1.5.0",
          "model_name": "FloatProgressModel",
          "state": {
            "_dom_classes": [],
            "_model_module": "@jupyter-widgets/controls",
            "_model_module_version": "1.5.0",
            "_model_name": "FloatProgressModel",
            "_view_count": null,
            "_view_module": "@jupyter-widgets/controls",
            "_view_module_version": "1.5.0",
            "_view_name": "ProgressView",
            "bar_style": "success",
            "description": "",
            "description_tooltip": null,
            "layout": "IPY_MODEL_8fcd76e124cf460f838138339f38947e",
            "max": 435755784,
            "min": 0,
            "orientation": "horizontal",
            "style": "IPY_MODEL_c15cc174186c468ba1b82d1689ed4373",
            "value": 435755784
          }
        },
        "2375d10338c346ecb3ac8387bd03a577": {
          "model_module": "@jupyter-widgets/controls",
          "model_module_version": "1.5.0",
          "model_name": "HTMLModel",
          "state": {
            "_dom_classes": [],
            "_model_module": "@jupyter-widgets/controls",
            "_model_module_version": "1.5.0",
            "_model_name": "HTMLModel",
            "_view_count": null,
            "_view_module": "@jupyter-widgets/controls",
            "_view_module_version": "1.5.0",
            "_view_name": "HTMLView",
            "description": "",
            "description_tooltip": null,
            "layout": "IPY_MODEL_5387214147fe46d396cde6b68cbefba7",
            "placeholder": "​",
            "style": "IPY_MODEL_a02d2f4b935a401db2c018d72db20925",
            "value": " 436M/436M [00:03&lt;00:00, 206MB/s]"
          }
        },
        "2867bc9467c94158be25815b72519796": {
          "model_module": "@jupyter-widgets/base",
          "model_module_version": "1.2.0",
          "model_name": "LayoutModel",
          "state": {
            "_model_module": "@jupyter-widgets/base",
            "_model_module_version": "1.2.0",
            "_model_name": "LayoutModel",
            "_view_count": null,
            "_view_module": "@jupyter-widgets/base",
            "_view_module_version": "1.2.0",
            "_view_name": "LayoutView",
            "align_content": null,
            "align_items": null,
            "align_self": null,
            "border": null,
            "bottom": null,
            "display": null,
            "flex": null,
            "flex_flow": null,
            "grid_area": null,
            "grid_auto_columns": null,
            "grid_auto_flow": null,
            "grid_auto_rows": null,
            "grid_column": null,
            "grid_gap": null,
            "grid_row": null,
            "grid_template_areas": null,
            "grid_template_columns": null,
            "grid_template_rows": null,
            "height": null,
            "justify_content": null,
            "justify_items": null,
            "left": null,
            "margin": null,
            "max_height": null,
            "max_width": null,
            "min_height": null,
            "min_width": null,
            "object_fit": null,
            "object_position": null,
            "order": null,
            "overflow": null,
            "overflow_x": null,
            "overflow_y": null,
            "padding": null,
            "right": null,
            "top": null,
            "visibility": null,
            "width": null
          }
        },
        "38816c6ecf874cfbb146e89cc0056270": {
          "model_module": "@jupyter-widgets/base",
          "model_module_version": "1.2.0",
          "model_name": "LayoutModel",
          "state": {
            "_model_module": "@jupyter-widgets/base",
            "_model_module_version": "1.2.0",
            "_model_name": "LayoutModel",
            "_view_count": null,
            "_view_module": "@jupyter-widgets/base",
            "_view_module_version": "1.2.0",
            "_view_name": "LayoutView",
            "align_content": null,
            "align_items": null,
            "align_self": null,
            "border": null,
            "bottom": null,
            "display": null,
            "flex": null,
            "flex_flow": null,
            "grid_area": null,
            "grid_auto_columns": null,
            "grid_auto_flow": null,
            "grid_auto_rows": null,
            "grid_column": null,
            "grid_gap": null,
            "grid_row": null,
            "grid_template_areas": null,
            "grid_template_columns": null,
            "grid_template_rows": null,
            "height": null,
            "justify_content": null,
            "justify_items": null,
            "left": null,
            "margin": null,
            "max_height": null,
            "max_width": null,
            "min_height": null,
            "min_width": null,
            "object_fit": null,
            "object_position": null,
            "order": null,
            "overflow": null,
            "overflow_x": null,
            "overflow_y": null,
            "padding": null,
            "right": null,
            "top": null,
            "visibility": null,
            "width": null
          }
        },
        "3b6a21c083f742bb9bbb7ffef5e3b170": {
          "model_module": "@jupyter-widgets/controls",
          "model_module_version": "1.5.0",
          "model_name": "DescriptionStyleModel",
          "state": {
            "_model_module": "@jupyter-widgets/controls",
            "_model_module_version": "1.5.0",
            "_model_name": "DescriptionStyleModel",
            "_view_count": null,
            "_view_module": "@jupyter-widgets/base",
            "_view_module_version": "1.2.0",
            "_view_name": "StyleView",
            "description_width": ""
          }
        },
        "3f76f1bb454b4cf6b778e14699c4dcec": {
          "model_module": "@jupyter-widgets/controls",
          "model_module_version": "1.5.0",
          "model_name": "DescriptionStyleModel",
          "state": {
            "_model_module": "@jupyter-widgets/controls",
            "_model_module_version": "1.5.0",
            "_model_name": "DescriptionStyleModel",
            "_view_count": null,
            "_view_module": "@jupyter-widgets/base",
            "_view_module_version": "1.2.0",
            "_view_name": "StyleView",
            "description_width": ""
          }
        },
        "47a0a4db5fed43f7a1612465bc355f7f": {
          "model_module": "@jupyter-widgets/controls",
          "model_module_version": "1.5.0",
          "model_name": "FloatProgressModel",
          "state": {
            "_dom_classes": [],
            "_model_module": "@jupyter-widgets/controls",
            "_model_module_version": "1.5.0",
            "_model_name": "FloatProgressModel",
            "_view_count": null,
            "_view_module": "@jupyter-widgets/controls",
            "_view_module_version": "1.5.0",
            "_view_name": "ProgressView",
            "bar_style": "success",
            "description": "",
            "description_tooltip": null,
            "layout": "IPY_MODEL_1956b063a87844b684c1046140e45ef7",
            "max": 49,
            "min": 0,
            "orientation": "horizontal",
            "style": "IPY_MODEL_51aca2fc2db34b4a825ebc76c4ee5b75",
            "value": 49
          }
        },
        "4bcfe9c1491c4ff6b324a3135bd12055": {
          "model_module": "@jupyter-widgets/base",
          "model_module_version": "1.2.0",
          "model_name": "LayoutModel",
          "state": {
            "_model_module": "@jupyter-widgets/base",
            "_model_module_version": "1.2.0",
            "_model_name": "LayoutModel",
            "_view_count": null,
            "_view_module": "@jupyter-widgets/base",
            "_view_module_version": "1.2.0",
            "_view_name": "LayoutView",
            "align_content": null,
            "align_items": null,
            "align_self": null,
            "border": null,
            "bottom": null,
            "display": null,
            "flex": null,
            "flex_flow": null,
            "grid_area": null,
            "grid_auto_columns": null,
            "grid_auto_flow": null,
            "grid_auto_rows": null,
            "grid_column": null,
            "grid_gap": null,
            "grid_row": null,
            "grid_template_areas": null,
            "grid_template_columns": null,
            "grid_template_rows": null,
            "height": null,
            "justify_content": null,
            "justify_items": null,
            "left": null,
            "margin": null,
            "max_height": null,
            "max_width": null,
            "min_height": null,
            "min_width": null,
            "object_fit": null,
            "object_position": null,
            "order": null,
            "overflow": null,
            "overflow_x": null,
            "overflow_y": null,
            "padding": null,
            "right": null,
            "top": null,
            "visibility": null,
            "width": null
          }
        },
        "505cb4ce4b5a4fec8aabd94380a6e292": {
          "model_module": "@jupyter-widgets/base",
          "model_module_version": "1.2.0",
          "model_name": "LayoutModel",
          "state": {
            "_model_module": "@jupyter-widgets/base",
            "_model_module_version": "1.2.0",
            "_model_name": "LayoutModel",
            "_view_count": null,
            "_view_module": "@jupyter-widgets/base",
            "_view_module_version": "1.2.0",
            "_view_name": "LayoutView",
            "align_content": null,
            "align_items": null,
            "align_self": null,
            "border": null,
            "bottom": null,
            "display": null,
            "flex": null,
            "flex_flow": null,
            "grid_area": null,
            "grid_auto_columns": null,
            "grid_auto_flow": null,
            "grid_auto_rows": null,
            "grid_column": null,
            "grid_gap": null,
            "grid_row": null,
            "grid_template_areas": null,
            "grid_template_columns": null,
            "grid_template_rows": null,
            "height": null,
            "justify_content": null,
            "justify_items": null,
            "left": null,
            "margin": null,
            "max_height": null,
            "max_width": null,
            "min_height": null,
            "min_width": null,
            "object_fit": null,
            "object_position": null,
            "order": null,
            "overflow": null,
            "overflow_x": null,
            "overflow_y": null,
            "padding": null,
            "right": null,
            "top": null,
            "visibility": null,
            "width": null
          }
        },
        "51aca2fc2db34b4a825ebc76c4ee5b75": {
          "model_module": "@jupyter-widgets/controls",
          "model_module_version": "1.5.0",
          "model_name": "ProgressStyleModel",
          "state": {
            "_model_module": "@jupyter-widgets/controls",
            "_model_module_version": "1.5.0",
            "_model_name": "ProgressStyleModel",
            "_view_count": null,
            "_view_module": "@jupyter-widgets/base",
            "_view_module_version": "1.2.0",
            "_view_name": "StyleView",
            "bar_color": null,
            "description_width": ""
          }
        },
        "5256a6dead3047fe83b9f9d37f736f44": {
          "model_module": "@jupyter-widgets/controls",
          "model_module_version": "1.5.0",
          "model_name": "HTMLModel",
          "state": {
            "_dom_classes": [],
            "_model_module": "@jupyter-widgets/controls",
            "_model_module_version": "1.5.0",
            "_model_name": "HTMLModel",
            "_view_count": null,
            "_view_module": "@jupyter-widgets/controls",
            "_view_module_version": "1.5.0",
            "_view_name": "HTMLView",
            "description": "",
            "description_tooltip": null,
            "layout": "IPY_MODEL_4bcfe9c1491c4ff6b324a3135bd12055",
            "placeholder": "​",
            "style": "IPY_MODEL_ee1e0975ba264cbab17d9c94e903d985",
            "value": " 570/570 [00:00&lt;00:00, 41.1kB/s]"
          }
        },
        "5387214147fe46d396cde6b68cbefba7": {
          "model_module": "@jupyter-widgets/base",
          "model_module_version": "1.2.0",
          "model_name": "LayoutModel",
          "state": {
            "_model_module": "@jupyter-widgets/base",
            "_model_module_version": "1.2.0",
            "_model_name": "LayoutModel",
            "_view_count": null,
            "_view_module": "@jupyter-widgets/base",
            "_view_module_version": "1.2.0",
            "_view_name": "LayoutView",
            "align_content": null,
            "align_items": null,
            "align_self": null,
            "border": null,
            "bottom": null,
            "display": null,
            "flex": null,
            "flex_flow": null,
            "grid_area": null,
            "grid_auto_columns": null,
            "grid_auto_flow": null,
            "grid_auto_rows": null,
            "grid_column": null,
            "grid_gap": null,
            "grid_row": null,
            "grid_template_areas": null,
            "grid_template_columns": null,
            "grid_template_rows": null,
            "height": null,
            "justify_content": null,
            "justify_items": null,
            "left": null,
            "margin": null,
            "max_height": null,
            "max_width": null,
            "min_height": null,
            "min_width": null,
            "object_fit": null,
            "object_position": null,
            "order": null,
            "overflow": null,
            "overflow_x": null,
            "overflow_y": null,
            "padding": null,
            "right": null,
            "top": null,
            "visibility": null,
            "width": null
          }
        },
        "550e4162683846f5af04b8d6491612cd": {
          "model_module": "@jupyter-widgets/controls",
          "model_module_version": "1.5.0",
          "model_name": "HTMLModel",
          "state": {
            "_dom_classes": [],
            "_model_module": "@jupyter-widgets/controls",
            "_model_module_version": "1.5.0",
            "_model_name": "HTMLModel",
            "_view_count": null,
            "_view_module": "@jupyter-widgets/controls",
            "_view_module_version": "1.5.0",
            "_view_name": "HTMLView",
            "description": "",
            "description_tooltip": null,
            "layout": "IPY_MODEL_1ee43abecfaf4abd8c50e3cf483a674a",
            "placeholder": "​",
            "style": "IPY_MODEL_a26650d85bbf4e2a98a12c6dcdabfbc9",
            "value": "model.safetensors: 100%"
          }
        },
        "6c56586d2b1e470d8e7a237f38e5d821": {
          "model_module": "@jupyter-widgets/controls",
          "model_module_version": "1.5.0",
          "model_name": "DescriptionStyleModel",
          "state": {
            "_model_module": "@jupyter-widgets/controls",
            "_model_module_version": "1.5.0",
            "_model_name": "DescriptionStyleModel",
            "_view_count": null,
            "_view_module": "@jupyter-widgets/base",
            "_view_module_version": "1.2.0",
            "_view_name": "StyleView",
            "description_width": ""
          }
        },
        "6cb5eca80fbb4737a1d7feaa5bc99c10": {
          "model_module": "@jupyter-widgets/controls",
          "model_module_version": "1.5.0",
          "model_name": "ProgressStyleModel",
          "state": {
            "_model_module": "@jupyter-widgets/controls",
            "_model_module_version": "1.5.0",
            "_model_name": "ProgressStyleModel",
            "_view_count": null,
            "_view_module": "@jupyter-widgets/base",
            "_view_module_version": "1.2.0",
            "_view_name": "StyleView",
            "bar_color": null,
            "description_width": ""
          }
        },
        "740d60f29f7443bc9021f4e75cd7307e": {
          "model_module": "@jupyter-widgets/controls",
          "model_module_version": "1.5.0",
          "model_name": "HTMLModel",
          "state": {
            "_dom_classes": [],
            "_model_module": "@jupyter-widgets/controls",
            "_model_module_version": "1.5.0",
            "_model_name": "HTMLModel",
            "_view_count": null,
            "_view_module": "@jupyter-widgets/controls",
            "_view_module_version": "1.5.0",
            "_view_name": "HTMLView",
            "description": "",
            "description_tooltip": null,
            "layout": "IPY_MODEL_ca54cd5bf027485b9454123f0b892af5",
            "placeholder": "​",
            "style": "IPY_MODEL_3f76f1bb454b4cf6b778e14699c4dcec",
            "value": "vocab.txt: 100%"
          }
        },
        "759bbb9a990449348e2289a00d273303": {
          "model_module": "@jupyter-widgets/controls",
          "model_module_version": "1.5.0",
          "model_name": "DescriptionStyleModel",
          "state": {
            "_model_module": "@jupyter-widgets/controls",
            "_model_module_version": "1.5.0",
            "_model_name": "DescriptionStyleModel",
            "_view_count": null,
            "_view_module": "@jupyter-widgets/base",
            "_view_module_version": "1.2.0",
            "_view_name": "StyleView",
            "description_width": ""
          }
        },
        "7e12d2c7d8f94ccdb36b4db1549f1c79": {
          "model_module": "@jupyter-widgets/base",
          "model_module_version": "1.2.0",
          "model_name": "LayoutModel",
          "state": {
            "_model_module": "@jupyter-widgets/base",
            "_model_module_version": "1.2.0",
            "_model_name": "LayoutModel",
            "_view_count": null,
            "_view_module": "@jupyter-widgets/base",
            "_view_module_version": "1.2.0",
            "_view_name": "LayoutView",
            "align_content": null,
            "align_items": null,
            "align_self": null,
            "border": null,
            "bottom": null,
            "display": null,
            "flex": null,
            "flex_flow": null,
            "grid_area": null,
            "grid_auto_columns": null,
            "grid_auto_flow": null,
            "grid_auto_rows": null,
            "grid_column": null,
            "grid_gap": null,
            "grid_row": null,
            "grid_template_areas": null,
            "grid_template_columns": null,
            "grid_template_rows": null,
            "height": null,
            "justify_content": null,
            "justify_items": null,
            "left": null,
            "margin": null,
            "max_height": null,
            "max_width": null,
            "min_height": null,
            "min_width": null,
            "object_fit": null,
            "object_position": null,
            "order": null,
            "overflow": null,
            "overflow_x": null,
            "overflow_y": null,
            "padding": null,
            "right": null,
            "top": null,
            "visibility": null,
            "width": null
          }
        },
        "7f5db2006f9f4e12b6e90b65d3ae1c8b": {
          "model_module": "@jupyter-widgets/controls",
          "model_module_version": "1.5.0",
          "model_name": "HBoxModel",
          "state": {
            "_dom_classes": [],
            "_model_module": "@jupyter-widgets/controls",
            "_model_module_version": "1.5.0",
            "_model_name": "HBoxModel",
            "_view_count": null,
            "_view_module": "@jupyter-widgets/controls",
            "_view_module_version": "1.5.0",
            "_view_name": "HBoxView",
            "box_style": "",
            "children": [
              "IPY_MODEL_550e4162683846f5af04b8d6491612cd",
              "IPY_MODEL_226fd286194b495ea77d11dea0e1649c",
              "IPY_MODEL_2375d10338c346ecb3ac8387bd03a577"
            ],
            "layout": "IPY_MODEL_9b1e1258219e4898aaa7470f37e5d8d6"
          }
        },
        "803ccae954e54d45968a27c8c9d5544f": {
          "model_module": "@jupyter-widgets/base",
          "model_module_version": "1.2.0",
          "model_name": "LayoutModel",
          "state": {
            "_model_module": "@jupyter-widgets/base",
            "_model_module_version": "1.2.0",
            "_model_name": "LayoutModel",
            "_view_count": null,
            "_view_module": "@jupyter-widgets/base",
            "_view_module_version": "1.2.0",
            "_view_name": "LayoutView",
            "align_content": null,
            "align_items": null,
            "align_self": null,
            "border": null,
            "bottom": null,
            "display": null,
            "flex": null,
            "flex_flow": null,
            "grid_area": null,
            "grid_auto_columns": null,
            "grid_auto_flow": null,
            "grid_auto_rows": null,
            "grid_column": null,
            "grid_gap": null,
            "grid_row": null,
            "grid_template_areas": null,
            "grid_template_columns": null,
            "grid_template_rows": null,
            "height": null,
            "justify_content": null,
            "justify_items": null,
            "left": null,
            "margin": null,
            "max_height": null,
            "max_width": null,
            "min_height": null,
            "min_width": null,
            "object_fit": null,
            "object_position": null,
            "order": null,
            "overflow": null,
            "overflow_x": null,
            "overflow_y": null,
            "padding": null,
            "right": null,
            "top": null,
            "visibility": null,
            "width": null
          }
        },
        "8359a8b1d11b49ef957361d225d4ece9": {
          "model_module": "@jupyter-widgets/controls",
          "model_module_version": "1.5.0",
          "model_name": "HTMLModel",
          "state": {
            "_dom_classes": [],
            "_model_module": "@jupyter-widgets/controls",
            "_model_module_version": "1.5.0",
            "_model_name": "HTMLModel",
            "_view_count": null,
            "_view_module": "@jupyter-widgets/controls",
            "_view_module_version": "1.5.0",
            "_view_name": "HTMLView",
            "description": "",
            "description_tooltip": null,
            "layout": "IPY_MODEL_2867bc9467c94158be25815b72519796",
            "placeholder": "​",
            "style": "IPY_MODEL_3b6a21c083f742bb9bbb7ffef5e3b170",
            "value": " 436k/436k [00:00&lt;00:00, 5.19MB/s]"
          }
        },
        "8481d4e239ec4b579f17c860c62a6d90": {
          "model_module": "@jupyter-widgets/controls",
          "model_module_version": "1.5.0",
          "model_name": "HBoxModel",
          "state": {
            "_dom_classes": [],
            "_model_module": "@jupyter-widgets/controls",
            "_model_module_version": "1.5.0",
            "_model_name": "HBoxModel",
            "_view_count": null,
            "_view_module": "@jupyter-widgets/controls",
            "_view_module_version": "1.5.0",
            "_view_name": "HBoxView",
            "box_style": "",
            "children": [
              "IPY_MODEL_92dbe4af798d4dca99b9a2126584df10",
              "IPY_MODEL_dfe2aca8c0d64302a64cc00a32c5f22f",
              "IPY_MODEL_5256a6dead3047fe83b9f9d37f736f44"
            ],
            "layout": "IPY_MODEL_fd7981d9b6e545f88e961d74762eb4b7"
          }
        },
        "87b3d4b9ac8f46cda04f5618e9e32d2d": {
          "model_module": "@jupyter-widgets/controls",
          "model_module_version": "1.5.0",
          "model_name": "DescriptionStyleModel",
          "state": {
            "_model_module": "@jupyter-widgets/controls",
            "_model_module_version": "1.5.0",
            "_model_name": "DescriptionStyleModel",
            "_view_count": null,
            "_view_module": "@jupyter-widgets/base",
            "_view_module_version": "1.2.0",
            "_view_name": "StyleView",
            "description_width": ""
          }
        },
        "87e6f7e6364240228e97656802546cd4": {
          "model_module": "@jupyter-widgets/base",
          "model_module_version": "1.2.0",
          "model_name": "LayoutModel",
          "state": {
            "_model_module": "@jupyter-widgets/base",
            "_model_module_version": "1.2.0",
            "_model_name": "LayoutModel",
            "_view_count": null,
            "_view_module": "@jupyter-widgets/base",
            "_view_module_version": "1.2.0",
            "_view_name": "LayoutView",
            "align_content": null,
            "align_items": null,
            "align_self": null,
            "border": null,
            "bottom": null,
            "display": null,
            "flex": null,
            "flex_flow": null,
            "grid_area": null,
            "grid_auto_columns": null,
            "grid_auto_flow": null,
            "grid_auto_rows": null,
            "grid_column": null,
            "grid_gap": null,
            "grid_row": null,
            "grid_template_areas": null,
            "grid_template_columns": null,
            "grid_template_rows": null,
            "height": null,
            "justify_content": null,
            "justify_items": null,
            "left": null,
            "margin": null,
            "max_height": null,
            "max_width": null,
            "min_height": null,
            "min_width": null,
            "object_fit": null,
            "object_position": null,
            "order": null,
            "overflow": null,
            "overflow_x": null,
            "overflow_y": null,
            "padding": null,
            "right": null,
            "top": null,
            "visibility": null,
            "width": null
          }
        },
        "8cc05ee3ff7f491cbe23578334950ea4": {
          "model_module": "@jupyter-widgets/controls",
          "model_module_version": "1.5.0",
          "model_name": "DescriptionStyleModel",
          "state": {
            "_model_module": "@jupyter-widgets/controls",
            "_model_module_version": "1.5.0",
            "_model_name": "DescriptionStyleModel",
            "_view_count": null,
            "_view_module": "@jupyter-widgets/base",
            "_view_module_version": "1.2.0",
            "_view_name": "StyleView",
            "description_width": ""
          }
        },
        "8fcd76e124cf460f838138339f38947e": {
          "model_module": "@jupyter-widgets/base",
          "model_module_version": "1.2.0",
          "model_name": "LayoutModel",
          "state": {
            "_model_module": "@jupyter-widgets/base",
            "_model_module_version": "1.2.0",
            "_model_name": "LayoutModel",
            "_view_count": null,
            "_view_module": "@jupyter-widgets/base",
            "_view_module_version": "1.2.0",
            "_view_name": "LayoutView",
            "align_content": null,
            "align_items": null,
            "align_self": null,
            "border": null,
            "bottom": null,
            "display": null,
            "flex": null,
            "flex_flow": null,
            "grid_area": null,
            "grid_auto_columns": null,
            "grid_auto_flow": null,
            "grid_auto_rows": null,
            "grid_column": null,
            "grid_gap": null,
            "grid_row": null,
            "grid_template_areas": null,
            "grid_template_columns": null,
            "grid_template_rows": null,
            "height": null,
            "justify_content": null,
            "justify_items": null,
            "left": null,
            "margin": null,
            "max_height": null,
            "max_width": null,
            "min_height": null,
            "min_width": null,
            "object_fit": null,
            "object_position": null,
            "order": null,
            "overflow": null,
            "overflow_x": null,
            "overflow_y": null,
            "padding": null,
            "right": null,
            "top": null,
            "visibility": null,
            "width": null
          }
        },
        "92dbe4af798d4dca99b9a2126584df10": {
          "model_module": "@jupyter-widgets/controls",
          "model_module_version": "1.5.0",
          "model_name": "HTMLModel",
          "state": {
            "_dom_classes": [],
            "_model_module": "@jupyter-widgets/controls",
            "_model_module_version": "1.5.0",
            "_model_name": "HTMLModel",
            "_view_count": null,
            "_view_module": "@jupyter-widgets/controls",
            "_view_module_version": "1.5.0",
            "_view_name": "HTMLView",
            "description": "",
            "description_tooltip": null,
            "layout": "IPY_MODEL_c6efdd164ca942618533f4899ea61117",
            "placeholder": "​",
            "style": "IPY_MODEL_8cc05ee3ff7f491cbe23578334950ea4",
            "value": "config.json: 100%"
          }
        },
        "95fc8f09740c4f9082a5dbe80a1f0a5e": {
          "model_module": "@jupyter-widgets/controls",
          "model_module_version": "1.5.0",
          "model_name": "ProgressStyleModel",
          "state": {
            "_model_module": "@jupyter-widgets/controls",
            "_model_module_version": "1.5.0",
            "_model_name": "ProgressStyleModel",
            "_view_count": null,
            "_view_module": "@jupyter-widgets/base",
            "_view_module_version": "1.2.0",
            "_view_name": "StyleView",
            "bar_color": null,
            "description_width": ""
          }
        },
        "9b1e1258219e4898aaa7470f37e5d8d6": {
          "model_module": "@jupyter-widgets/base",
          "model_module_version": "1.2.0",
          "model_name": "LayoutModel",
          "state": {
            "_model_module": "@jupyter-widgets/base",
            "_model_module_version": "1.2.0",
            "_model_name": "LayoutModel",
            "_view_count": null,
            "_view_module": "@jupyter-widgets/base",
            "_view_module_version": "1.2.0",
            "_view_name": "LayoutView",
            "align_content": null,
            "align_items": null,
            "align_self": null,
            "border": null,
            "bottom": null,
            "display": null,
            "flex": null,
            "flex_flow": null,
            "grid_area": null,
            "grid_auto_columns": null,
            "grid_auto_flow": null,
            "grid_auto_rows": null,
            "grid_column": null,
            "grid_gap": null,
            "grid_row": null,
            "grid_template_areas": null,
            "grid_template_columns": null,
            "grid_template_rows": null,
            "height": null,
            "justify_content": null,
            "justify_items": null,
            "left": null,
            "margin": null,
            "max_height": null,
            "max_width": null,
            "min_height": null,
            "min_width": null,
            "object_fit": null,
            "object_position": null,
            "order": null,
            "overflow": null,
            "overflow_x": null,
            "overflow_y": null,
            "padding": null,
            "right": null,
            "top": null,
            "visibility": null,
            "width": null
          }
        },
        "a02d2f4b935a401db2c018d72db20925": {
          "model_module": "@jupyter-widgets/controls",
          "model_module_version": "1.5.0",
          "model_name": "DescriptionStyleModel",
          "state": {
            "_model_module": "@jupyter-widgets/controls",
            "_model_module_version": "1.5.0",
            "_model_name": "DescriptionStyleModel",
            "_view_count": null,
            "_view_module": "@jupyter-widgets/base",
            "_view_module_version": "1.2.0",
            "_view_name": "StyleView",
            "description_width": ""
          }
        },
        "a26650d85bbf4e2a98a12c6dcdabfbc9": {
          "model_module": "@jupyter-widgets/controls",
          "model_module_version": "1.5.0",
          "model_name": "DescriptionStyleModel",
          "state": {
            "_model_module": "@jupyter-widgets/controls",
            "_model_module_version": "1.5.0",
            "_model_name": "DescriptionStyleModel",
            "_view_count": null,
            "_view_module": "@jupyter-widgets/base",
            "_view_module_version": "1.2.0",
            "_view_name": "StyleView",
            "description_width": ""
          }
        },
        "a4465d799f994ee1a60bd1d7ee7c3fb6": {
          "model_module": "@jupyter-widgets/controls",
          "model_module_version": "1.5.0",
          "model_name": "ProgressStyleModel",
          "state": {
            "_model_module": "@jupyter-widgets/controls",
            "_model_module_version": "1.5.0",
            "_model_name": "ProgressStyleModel",
            "_view_count": null,
            "_view_module": "@jupyter-widgets/base",
            "_view_module_version": "1.2.0",
            "_view_name": "StyleView",
            "bar_color": null,
            "description_width": ""
          }
        },
        "a868c9eea7cb474d8180cf97de14f1fa": {
          "model_module": "@jupyter-widgets/controls",
          "model_module_version": "1.5.0",
          "model_name": "HTMLModel",
          "state": {
            "_dom_classes": [],
            "_model_module": "@jupyter-widgets/controls",
            "_model_module_version": "1.5.0",
            "_model_name": "HTMLModel",
            "_view_count": null,
            "_view_module": "@jupyter-widgets/controls",
            "_view_module_version": "1.5.0",
            "_view_name": "HTMLView",
            "description": "",
            "description_tooltip": null,
            "layout": "IPY_MODEL_38816c6ecf874cfbb146e89cc0056270",
            "placeholder": "​",
            "style": "IPY_MODEL_759bbb9a990449348e2289a00d273303",
            "value": "tokenizer.json: 100%"
          }
        },
        "a9f9490c917c443bb60014c1091bd1d5": {
          "model_module": "@jupyter-widgets/base",
          "model_module_version": "1.2.0",
          "model_name": "LayoutModel",
          "state": {
            "_model_module": "@jupyter-widgets/base",
            "_model_module_version": "1.2.0",
            "_model_name": "LayoutModel",
            "_view_count": null,
            "_view_module": "@jupyter-widgets/base",
            "_view_module_version": "1.2.0",
            "_view_name": "LayoutView",
            "align_content": null,
            "align_items": null,
            "align_self": null,
            "border": null,
            "bottom": null,
            "display": null,
            "flex": null,
            "flex_flow": null,
            "grid_area": null,
            "grid_auto_columns": null,
            "grid_auto_flow": null,
            "grid_auto_rows": null,
            "grid_column": null,
            "grid_gap": null,
            "grid_row": null,
            "grid_template_areas": null,
            "grid_template_columns": null,
            "grid_template_rows": null,
            "height": null,
            "justify_content": null,
            "justify_items": null,
            "left": null,
            "margin": null,
            "max_height": null,
            "max_width": null,
            "min_height": null,
            "min_width": null,
            "object_fit": null,
            "object_position": null,
            "order": null,
            "overflow": null,
            "overflow_x": null,
            "overflow_y": null,
            "padding": null,
            "right": null,
            "top": null,
            "visibility": null,
            "width": null
          }
        },
        "af0afe95fafd4fa182e0e52716d6f881": {
          "model_module": "@jupyter-widgets/controls",
          "model_module_version": "1.5.0",
          "model_name": "HTMLModel",
          "state": {
            "_dom_classes": [],
            "_model_module": "@jupyter-widgets/controls",
            "_model_module_version": "1.5.0",
            "_model_name": "HTMLModel",
            "_view_count": null,
            "_view_module": "@jupyter-widgets/controls",
            "_view_module_version": "1.5.0",
            "_view_name": "HTMLView",
            "description": "",
            "description_tooltip": null,
            "layout": "IPY_MODEL_b17c1f18ae9f49a79d0b82a17f37b51f",
            "placeholder": "​",
            "style": "IPY_MODEL_6c56586d2b1e470d8e7a237f38e5d821",
            "value": " 213k/213k [00:00&lt;00:00, 1.30MB/s]"
          }
        },
        "b171cdd6d73d4fe396ac125d9a9746e2": {
          "model_module": "@jupyter-widgets/base",
          "model_module_version": "1.2.0",
          "model_name": "LayoutModel",
          "state": {
            "_model_module": "@jupyter-widgets/base",
            "_model_module_version": "1.2.0",
            "_model_name": "LayoutModel",
            "_view_count": null,
            "_view_module": "@jupyter-widgets/base",
            "_view_module_version": "1.2.0",
            "_view_name": "LayoutView",
            "align_content": null,
            "align_items": null,
            "align_self": null,
            "border": null,
            "bottom": null,
            "display": null,
            "flex": null,
            "flex_flow": null,
            "grid_area": null,
            "grid_auto_columns": null,
            "grid_auto_flow": null,
            "grid_auto_rows": null,
            "grid_column": null,
            "grid_gap": null,
            "grid_row": null,
            "grid_template_areas": null,
            "grid_template_columns": null,
            "grid_template_rows": null,
            "height": null,
            "justify_content": null,
            "justify_items": null,
            "left": null,
            "margin": null,
            "max_height": null,
            "max_width": null,
            "min_height": null,
            "min_width": null,
            "object_fit": null,
            "object_position": null,
            "order": null,
            "overflow": null,
            "overflow_x": null,
            "overflow_y": null,
            "padding": null,
            "right": null,
            "top": null,
            "visibility": null,
            "width": null
          }
        },
        "b17c1f18ae9f49a79d0b82a17f37b51f": {
          "model_module": "@jupyter-widgets/base",
          "model_module_version": "1.2.0",
          "model_name": "LayoutModel",
          "state": {
            "_model_module": "@jupyter-widgets/base",
            "_model_module_version": "1.2.0",
            "_model_name": "LayoutModel",
            "_view_count": null,
            "_view_module": "@jupyter-widgets/base",
            "_view_module_version": "1.2.0",
            "_view_name": "LayoutView",
            "align_content": null,
            "align_items": null,
            "align_self": null,
            "border": null,
            "bottom": null,
            "display": null,
            "flex": null,
            "flex_flow": null,
            "grid_area": null,
            "grid_auto_columns": null,
            "grid_auto_flow": null,
            "grid_auto_rows": null,
            "grid_column": null,
            "grid_gap": null,
            "grid_row": null,
            "grid_template_areas": null,
            "grid_template_columns": null,
            "grid_template_rows": null,
            "height": null,
            "justify_content": null,
            "justify_items": null,
            "left": null,
            "margin": null,
            "max_height": null,
            "max_width": null,
            "min_height": null,
            "min_width": null,
            "object_fit": null,
            "object_position": null,
            "order": null,
            "overflow": null,
            "overflow_x": null,
            "overflow_y": null,
            "padding": null,
            "right": null,
            "top": null,
            "visibility": null,
            "width": null
          }
        },
        "b2d97b85cc6e48ad9fc1d608f4cf1c43": {
          "model_module": "@jupyter-widgets/base",
          "model_module_version": "1.2.0",
          "model_name": "LayoutModel",
          "state": {
            "_model_module": "@jupyter-widgets/base",
            "_model_module_version": "1.2.0",
            "_model_name": "LayoutModel",
            "_view_count": null,
            "_view_module": "@jupyter-widgets/base",
            "_view_module_version": "1.2.0",
            "_view_name": "LayoutView",
            "align_content": null,
            "align_items": null,
            "align_self": null,
            "border": null,
            "bottom": null,
            "display": null,
            "flex": null,
            "flex_flow": null,
            "grid_area": null,
            "grid_auto_columns": null,
            "grid_auto_flow": null,
            "grid_auto_rows": null,
            "grid_column": null,
            "grid_gap": null,
            "grid_row": null,
            "grid_template_areas": null,
            "grid_template_columns": null,
            "grid_template_rows": null,
            "height": null,
            "justify_content": null,
            "justify_items": null,
            "left": null,
            "margin": null,
            "max_height": null,
            "max_width": null,
            "min_height": null,
            "min_width": null,
            "object_fit": null,
            "object_position": null,
            "order": null,
            "overflow": null,
            "overflow_x": null,
            "overflow_y": null,
            "padding": null,
            "right": null,
            "top": null,
            "visibility": null,
            "width": null
          }
        },
        "b7bb2a6593524deaa9930e7bf5ada1fb": {
          "model_module": "@jupyter-widgets/controls",
          "model_module_version": "1.5.0",
          "model_name": "HBoxModel",
          "state": {
            "_dom_classes": [],
            "_model_module": "@jupyter-widgets/controls",
            "_model_module_version": "1.5.0",
            "_model_name": "HBoxModel",
            "_view_count": null,
            "_view_module": "@jupyter-widgets/controls",
            "_view_module_version": "1.5.0",
            "_view_name": "HBoxView",
            "box_style": "",
            "children": [
              "IPY_MODEL_740d60f29f7443bc9021f4e75cd7307e",
              "IPY_MODEL_13c52fb794004136b18b42acf0d30b1b",
              "IPY_MODEL_af0afe95fafd4fa182e0e52716d6f881"
            ],
            "layout": "IPY_MODEL_87e6f7e6364240228e97656802546cd4"
          }
        },
        "bd0c2ee4d28b40478cea477a04550376": {
          "model_module": "@jupyter-widgets/controls",
          "model_module_version": "1.5.0",
          "model_name": "FloatProgressModel",
          "state": {
            "_dom_classes": [],
            "_model_module": "@jupyter-widgets/controls",
            "_model_module_version": "1.5.0",
            "_model_name": "FloatProgressModel",
            "_view_count": null,
            "_view_module": "@jupyter-widgets/controls",
            "_view_module_version": "1.5.0",
            "_view_name": "ProgressView",
            "bar_style": "success",
            "description": "",
            "description_tooltip": null,
            "layout": "IPY_MODEL_505cb4ce4b5a4fec8aabd94380a6e292",
            "max": 435797,
            "min": 0,
            "orientation": "horizontal",
            "style": "IPY_MODEL_95fc8f09740c4f9082a5dbe80a1f0a5e",
            "value": 435797
          }
        },
        "c15cc174186c468ba1b82d1689ed4373": {
          "model_module": "@jupyter-widgets/controls",
          "model_module_version": "1.5.0",
          "model_name": "ProgressStyleModel",
          "state": {
            "_model_module": "@jupyter-widgets/controls",
            "_model_module_version": "1.5.0",
            "_model_name": "ProgressStyleModel",
            "_view_count": null,
            "_view_module": "@jupyter-widgets/base",
            "_view_module_version": "1.2.0",
            "_view_name": "StyleView",
            "bar_color": null,
            "description_width": ""
          }
        },
        "c6da9a4453a443f09dba0a48eb4be78b": {
          "model_module": "@jupyter-widgets/controls",
          "model_module_version": "1.5.0",
          "model_name": "HTMLModel",
          "state": {
            "_dom_classes": [],
            "_model_module": "@jupyter-widgets/controls",
            "_model_module_version": "1.5.0",
            "_model_name": "HTMLModel",
            "_view_count": null,
            "_view_module": "@jupyter-widgets/controls",
            "_view_module_version": "1.5.0",
            "_view_name": "HTMLView",
            "description": "",
            "description_tooltip": null,
            "layout": "IPY_MODEL_b2d97b85cc6e48ad9fc1d608f4cf1c43",
            "placeholder": "​",
            "style": "IPY_MODEL_87b3d4b9ac8f46cda04f5618e9e32d2d",
            "value": "tokenizer_config.json: 100%"
          }
        },
        "c6efdd164ca942618533f4899ea61117": {
          "model_module": "@jupyter-widgets/base",
          "model_module_version": "1.2.0",
          "model_name": "LayoutModel",
          "state": {
            "_model_module": "@jupyter-widgets/base",
            "_model_module_version": "1.2.0",
            "_model_name": "LayoutModel",
            "_view_count": null,
            "_view_module": "@jupyter-widgets/base",
            "_view_module_version": "1.2.0",
            "_view_name": "LayoutView",
            "align_content": null,
            "align_items": null,
            "align_self": null,
            "border": null,
            "bottom": null,
            "display": null,
            "flex": null,
            "flex_flow": null,
            "grid_area": null,
            "grid_auto_columns": null,
            "grid_auto_flow": null,
            "grid_auto_rows": null,
            "grid_column": null,
            "grid_gap": null,
            "grid_row": null,
            "grid_template_areas": null,
            "grid_template_columns": null,
            "grid_template_rows": null,
            "height": null,
            "justify_content": null,
            "justify_items": null,
            "left": null,
            "margin": null,
            "max_height": null,
            "max_width": null,
            "min_height": null,
            "min_width": null,
            "object_fit": null,
            "object_position": null,
            "order": null,
            "overflow": null,
            "overflow_x": null,
            "overflow_y": null,
            "padding": null,
            "right": null,
            "top": null,
            "visibility": null,
            "width": null
          }
        },
        "ca54cd5bf027485b9454123f0b892af5": {
          "model_module": "@jupyter-widgets/base",
          "model_module_version": "1.2.0",
          "model_name": "LayoutModel",
          "state": {
            "_model_module": "@jupyter-widgets/base",
            "_model_module_version": "1.2.0",
            "_model_name": "LayoutModel",
            "_view_count": null,
            "_view_module": "@jupyter-widgets/base",
            "_view_module_version": "1.2.0",
            "_view_name": "LayoutView",
            "align_content": null,
            "align_items": null,
            "align_self": null,
            "border": null,
            "bottom": null,
            "display": null,
            "flex": null,
            "flex_flow": null,
            "grid_area": null,
            "grid_auto_columns": null,
            "grid_auto_flow": null,
            "grid_auto_rows": null,
            "grid_column": null,
            "grid_gap": null,
            "grid_row": null,
            "grid_template_areas": null,
            "grid_template_columns": null,
            "grid_template_rows": null,
            "height": null,
            "justify_content": null,
            "justify_items": null,
            "left": null,
            "margin": null,
            "max_height": null,
            "max_width": null,
            "min_height": null,
            "min_width": null,
            "object_fit": null,
            "object_position": null,
            "order": null,
            "overflow": null,
            "overflow_x": null,
            "overflow_y": null,
            "padding": null,
            "right": null,
            "top": null,
            "visibility": null,
            "width": null
          }
        },
        "cc60acf84c294d33be3db69ea67f21b2": {
          "model_module": "@jupyter-widgets/controls",
          "model_module_version": "1.5.0",
          "model_name": "HTMLModel",
          "state": {
            "_dom_classes": [],
            "_model_module": "@jupyter-widgets/controls",
            "_model_module_version": "1.5.0",
            "_model_name": "HTMLModel",
            "_view_count": null,
            "_view_module": "@jupyter-widgets/controls",
            "_view_module_version": "1.5.0",
            "_view_name": "HTMLView",
            "description": "",
            "description_tooltip": null,
            "layout": "IPY_MODEL_7e12d2c7d8f94ccdb36b4db1549f1c79",
            "placeholder": "​",
            "style": "IPY_MODEL_fb507a19ae8b40809f8a843781050b59",
            "value": " 49.0/49.0 [00:00&lt;00:00, 3.32kB/s]"
          }
        },
        "dfe2aca8c0d64302a64cc00a32c5f22f": {
          "model_module": "@jupyter-widgets/controls",
          "model_module_version": "1.5.0",
          "model_name": "FloatProgressModel",
          "state": {
            "_dom_classes": [],
            "_model_module": "@jupyter-widgets/controls",
            "_model_module_version": "1.5.0",
            "_model_name": "FloatProgressModel",
            "_view_count": null,
            "_view_module": "@jupyter-widgets/controls",
            "_view_module_version": "1.5.0",
            "_view_name": "ProgressView",
            "bar_style": "success",
            "description": "",
            "description_tooltip": null,
            "layout": "IPY_MODEL_a9f9490c917c443bb60014c1091bd1d5",
            "max": 570,
            "min": 0,
            "orientation": "horizontal",
            "style": "IPY_MODEL_a4465d799f994ee1a60bd1d7ee7c3fb6",
            "value": 570
          }
        },
        "ee1e0975ba264cbab17d9c94e903d985": {
          "model_module": "@jupyter-widgets/controls",
          "model_module_version": "1.5.0",
          "model_name": "DescriptionStyleModel",
          "state": {
            "_model_module": "@jupyter-widgets/controls",
            "_model_module_version": "1.5.0",
            "_model_name": "DescriptionStyleModel",
            "_view_count": null,
            "_view_module": "@jupyter-widgets/base",
            "_view_module_version": "1.2.0",
            "_view_name": "StyleView",
            "description_width": ""
          }
        },
        "f68d3d0eaf57436488a91da112c58647": {
          "model_module": "@jupyter-widgets/controls",
          "model_module_version": "1.5.0",
          "model_name": "HBoxModel",
          "state": {
            "_dom_classes": [],
            "_model_module": "@jupyter-widgets/controls",
            "_model_module_version": "1.5.0",
            "_model_name": "HBoxModel",
            "_view_count": null,
            "_view_module": "@jupyter-widgets/controls",
            "_view_module_version": "1.5.0",
            "_view_name": "HBoxView",
            "box_style": "",
            "children": [
              "IPY_MODEL_a868c9eea7cb474d8180cf97de14f1fa",
              "IPY_MODEL_bd0c2ee4d28b40478cea477a04550376",
              "IPY_MODEL_8359a8b1d11b49ef957361d225d4ece9"
            ],
            "layout": "IPY_MODEL_b171cdd6d73d4fe396ac125d9a9746e2"
          }
        },
        "fb507a19ae8b40809f8a843781050b59": {
          "model_module": "@jupyter-widgets/controls",
          "model_module_version": "1.5.0",
          "model_name": "DescriptionStyleModel",
          "state": {
            "_model_module": "@jupyter-widgets/controls",
            "_model_module_version": "1.5.0",
            "_model_name": "DescriptionStyleModel",
            "_view_count": null,
            "_view_module": "@jupyter-widgets/base",
            "_view_module_version": "1.2.0",
            "_view_name": "StyleView",
            "description_width": ""
          }
        },
        "fd7981d9b6e545f88e961d74762eb4b7": {
          "model_module": "@jupyter-widgets/base",
          "model_module_version": "1.2.0",
          "model_name": "LayoutModel",
          "state": {
            "_model_module": "@jupyter-widgets/base",
            "_model_module_version": "1.2.0",
            "_model_name": "LayoutModel",
            "_view_count": null,
            "_view_module": "@jupyter-widgets/base",
            "_view_module_version": "1.2.0",
            "_view_name": "LayoutView",
            "align_content": null,
            "align_items": null,
            "align_self": null,
            "border": null,
            "bottom": null,
            "display": null,
            "flex": null,
            "flex_flow": null,
            "grid_area": null,
            "grid_auto_columns": null,
            "grid_auto_flow": null,
            "grid_auto_rows": null,
            "grid_column": null,
            "grid_gap": null,
            "grid_row": null,
            "grid_template_areas": null,
            "grid_template_columns": null,
            "grid_template_rows": null,
            "height": null,
            "justify_content": null,
            "justify_items": null,
            "left": null,
            "margin": null,
            "max_height": null,
            "max_width": null,
            "min_height": null,
            "min_width": null,
            "object_fit": null,
            "object_position": null,
            "order": null,
            "overflow": null,
            "overflow_x": null,
            "overflow_y": null,
            "padding": null,
            "right": null,
            "top": null,
            "visibility": null,
            "width": null
          }
        },
        "fde0629beb0643ad920c895c3bdf32dd": {
          "model_module": "@jupyter-widgets/controls",
          "model_module_version": "1.5.0",
          "model_name": "HBoxModel",
          "state": {
            "_dom_classes": [],
            "_model_module": "@jupyter-widgets/controls",
            "_model_module_version": "1.5.0",
            "_model_name": "HBoxModel",
            "_view_count": null,
            "_view_module": "@jupyter-widgets/controls",
            "_view_module_version": "1.5.0",
            "_view_name": "HBoxView",
            "box_style": "",
            "children": [
              "IPY_MODEL_c6da9a4453a443f09dba0a48eb4be78b",
              "IPY_MODEL_47a0a4db5fed43f7a1612465bc355f7f",
              "IPY_MODEL_cc60acf84c294d33be3db69ea67f21b2"
            ],
            "layout": "IPY_MODEL_803ccae954e54d45968a27c8c9d5544f"
          }
        }
      }
    }
  },
  "nbformat": 4,
  "nbformat_minor": 0
}
